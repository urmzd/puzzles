{
  "cells": [
    {
      "cell_type": "markdown",
      "metadata": {
        "id": "view-in-github",
        "colab_type": "text"
      },
      "source": [
        "<a href=\"https://colab.research.google.com/github/urmzd/school/blob/main/year-four/CSCI4155/assignments/a1/Assignment1-Step2-Students.ipynb\" target=\"_parent\"><img src=\"https://colab.research.google.com/assets/colab-badge.svg\" alt=\"Open In Colab\"/></a>"
      ]
    },
    {
      "cell_type": "markdown",
      "metadata": {
        "id": "hCLj75bm_Dj6"
      },
      "source": [
        "# Step 2"
      ]
    },
    {
      "cell_type": "markdown",
      "metadata": {
        "id": "WgMMV6xA_DkF"
      },
      "source": [
        "In step 2 you will be using **Pytorch** to import MNIST, train a neural network on MNIST, find examples that \"fool\" that trained network, and, if you're a 6505 student, propose a way to deal with these examples."
      ]
    },
    {
      "cell_type": "markdown",
      "metadata": {
        "id": "V5lzpsdM_DkH"
      },
      "source": [
        "## Question 1"
      ]
    },
    {
      "cell_type": "markdown",
      "metadata": {
        "id": "t9x0jR51_DkI"
      },
      "source": [
        "Start by importing both the training and testing MNIST datasets using DataLoaders and the torchvision provided datasets. You can set both the training and testing batch size to be whatever you feel is best."
      ]
    },
    {
      "cell_type": "code",
      "execution_count": 19,
      "metadata": {
        "id": "njc0zMQ1_Kcj",
        "colab": {
          "base_uri": "https://localhost:8080/"
        },
        "outputId": "cfd2427c-5af8-44f1-9767-d1d4ab3c95a9"
      },
      "outputs": [
        {
          "output_type": "stream",
          "name": "stdout",
          "text": [
            "Requirement already satisfied: loguru in /usr/local/lib/python3.7/dist-packages (0.6.0)\n"
          ]
        }
      ],
      "source": [
        "!pip install loguru"
      ]
    },
    {
      "cell_type": "code",
      "execution_count": 20,
      "metadata": {
        "id": "g4kMqPTH_DkJ",
        "colab": {
          "base_uri": "https://localhost:8080/"
        },
        "outputId": "e53a6d34-d909-464a-a2b9-480f3940ffb2"
      },
      "outputs": [
        {
          "output_type": "execute_result",
          "data": {
            "text/plain": [
              "3"
            ]
          },
          "metadata": {},
          "execution_count": 20
        }
      ],
      "source": [
        "from torch.utils.data import random_split, DataLoader\n",
        "from loguru import logger\n",
        "from torch.nn.functional import cross_entropy\n",
        "import numpy as np\n",
        "import sys\n",
        "import torchvision\n",
        "import random\n",
        "import torch\n",
        "\n",
        "SEED_NO = 100\n",
        "random.seed(SEED_NO)\n",
        "torch.manual_seed(SEED_NO)\n",
        "np.random.seed(SEED_NO)\n",
        "\n",
        "LOGGER_LEVEL = \"INFO\"\n",
        "BATCH_SIZE = 64\n",
        "\n",
        "logger.remove()\n",
        "logger.add(sys.stderr, level=LOGGER_LEVEL)"
      ]
    },
    {
      "cell_type": "code",
      "execution_count": 21,
      "metadata": {
        "id": "uG3YhYH5LCGu",
        "colab": {
          "base_uri": "https://localhost:8080/"
        },
        "outputId": "cc03e90c-f7ac-4bf3-9b2c-3415af4aa330"
      },
      "outputs": [
        {
          "output_type": "stream",
          "name": "stderr",
          "text": [
            "2022-03-21 01:58:59.901 | INFO     | __main__:<module>:14 - CUDA: True\n"
          ]
        }
      ],
      "source": [
        "transformer = torchvision.transforms.Compose([torchvision.transforms.ToTensor()])\n",
        "\n",
        "mnist_dataset = torchvision.datasets.MNIST(\"/tmp/mnist\", download=True, transform=transformer)\n",
        "total_dataset_size = len(mnist_dataset)\n",
        "logger.trace(total_dataset_size)\n",
        "\n",
        "dev = torch.device(\"cuda\") if torch.cuda.is_available() else torch.device(\"cpu\")\n",
        "train_set, val_set = random_split(mnist_dataset, lengths=[10000, 50000])\n",
        "\n",
        "train_dl = DataLoader(train_set, batch_size=BATCH_SIZE)\n",
        "val_dl = DataLoader(val_set, batch_size=BATCH_SIZE)\n",
        "\n",
        "logger.debug(f\"TRAIN LENGTH: {len(train_set)}; VAL LENGTH: {len(val_set)}\")\n",
        "logger.info(f\"CUDA: {torch.cuda.is_available()}\")"
      ]
    },
    {
      "cell_type": "markdown",
      "metadata": {
        "id": "oH4Tzsci_DkO"
      },
      "source": [
        "## Question 2"
      ]
    },
    {
      "cell_type": "markdown",
      "metadata": {
        "id": "Wf9PmeNA_DkP"
      },
      "source": [
        "Define a network with the following architecture:\n",
        "\n",
        "Conv2d (input channels=1, output channels = 15,kernel size = 5)\n",
        "$\\rightarrow$\n",
        "MaxPool (kernel size = 2)\n",
        "$\\rightarrow$\n",
        "ReLU\n",
        "$\\rightarrow$\n",
        "Conv2d (input channels=15, output channels = 30,kernel size = 5)\n",
        "$\\rightarrow$\n",
        "Dropout2d (p = 0.5)\n",
        "$\\rightarrow$\n",
        "MaxPool (kernel size = 2)\n",
        "$\\rightarrow$\n",
        "ReLU\n",
        "$\\rightarrow$\n",
        "Linear(input dimension = 480, hidden units = 64)\n",
        "$\\rightarrow$\n",
        "ReLU\n",
        "$\\rightarrow$\n",
        "Dropout (p=0.5)\n",
        "$\\rightarrow$\n",
        "Linear(input dimension = 64, hidden units = 10)\n",
        "$\\rightarrow$\n",
        "LogSoftMax"
      ]
    },
    {
      "cell_type": "code",
      "execution_count": 22,
      "metadata": {
        "id": "oCl1_quA_DkS"
      },
      "outputs": [],
      "source": [
        "class Print(torch.nn.Module):\n",
        "    def __init__(self):\n",
        "        super(Print, self).__init__()\n",
        "\n",
        "    def forward(self, x):\n",
        "        logger.trace(x.shape)\n",
        "        return x\n",
        "\n",
        "conv_net = torch.nn.Sequential(\n",
        "    Print(),\n",
        "    torch.nn.Conv2d(in_channels=1, out_channels=15,kernel_size=5),\n",
        "    Print(),\n",
        "    torch.nn.MaxPool2d(kernel_size=2),\n",
        "    Print(),\n",
        "    torch.nn.ReLU(),\n",
        "    Print(),\n",
        "    torch.nn.Conv2d(in_channels=15, out_channels=30, kernel_size=5),\n",
        "    Print(),\n",
        "    torch.nn.Dropout2d(p=0.5),\n",
        "    Print(),\n",
        "    torch.nn.MaxPool2d(kernel_size=2),\n",
        "    Print(),\n",
        "    torch.nn.ReLU(),\n",
        "    Print(),\n",
        "    torch.nn.Flatten(start_dim=1),\n",
        "    Print(),\n",
        "    torch.nn.Linear(in_features=480,out_features=64),\n",
        "    Print(),\n",
        "    torch.nn.ReLU(),\n",
        "    Print(),\n",
        "    torch.nn.Dropout(p=0.5),\n",
        "    Print(),\n",
        "    torch.nn.Linear(in_features=64, out_features=10),\n",
        "    Print(),\n",
        "    torch.nn.LogSoftmax() \n",
        ")"
      ]
    },
    {
      "cell_type": "markdown",
      "metadata": {
        "id": "sIRb-FXw_DkU"
      },
      "source": [
        "## Question 3"
      ]
    },
    {
      "cell_type": "markdown",
      "metadata": {
        "id": "w-KyIql0_DkV"
      },
      "source": [
        "Train the network you defined in the previous question on MNIST, using the optimizer and the number of training epochs you deem appropriate. Use a cross-entropy loss. Each epoch test your model on the testing dataset and print the value of the accuracy that you achieve. Produce a plot of the loss against the number of epochs.\n",
        "\n",
        "**Note**: Do not be overly worried about the accuracy that you achieve with your model. It should be upwards of 95% at the very least, but you won't get bonus marks for training a model that has 99.x% accuracy."
      ]
    },
    {
      "cell_type": "code",
      "execution_count": 23,
      "metadata": {
        "id": "pa1rn7WR_DkW",
        "colab": {
          "base_uri": "https://localhost:8080/"
        },
        "outputId": "300a4c7a-45cd-41e7-b41e-475f10faa5e4"
      },
      "outputs": [
        {
          "output_type": "stream",
          "name": "stderr",
          "text": [
            "/usr/local/lib/python3.7/dist-packages/torch/nn/modules/container.py:141: UserWarning: Implicit dimension choice for log_softmax has been deprecated. Change the call to include dim=X as an argument.\n",
            "  input = module(input)\n"
          ]
        }
      ],
      "source": [
        "momentum = 0.99\n",
        "learning_rate = 0.001\n",
        "conv_net.to(dev)\n",
        "opt = torch.optim.SGD(conv_net.parameters(), lr=learning_rate, momentum=momentum)\n",
        "\n",
        "def calculate_loss_and_update(model, loss_fn, opt, x, y: torch.Tensor, fgsm_attack = None):\n",
        "  x_true = x.to(dev)\n",
        "  y_true = y.to(dev)\n",
        "\n",
        "  if fgsm_attack is not None:\n",
        "\n",
        "    x_true.requires_grad = True\n",
        "\n",
        "  y_preds = model(x_true)\n",
        "\n",
        "  loss = loss_fn(y_preds, y_true)\n",
        "  y_pred = torch.argmax(y_preds, dim=1)\n",
        "\n",
        "  if opt is not None or fgsm_attack is not None:\n",
        "    loss.backward()\n",
        "\n",
        "  if opt is not None:\n",
        "    opt.step()\n",
        "    # Reset optimizer\n",
        "    opt.zero_grad()\n",
        "\n",
        "  perturbed_pred = None\n",
        "  perturbed_loss = None\n",
        "  perturbed_data = None\n",
        "  if fgsm_attack is not None:\n",
        "    # Get correctly labelled data\n",
        "    grad_data = x_true.grad.data\n",
        "\n",
        "    # Transform to ensure misclassification\n",
        "    perturbed_data = fgsm_attack(data=x_true, data_grad=grad_data)\n",
        "    perturbed_preds = model(perturbed_data)\n",
        "    perturbed_pred = torch.argmax(perturbed_preds, dim=1)\n",
        "    perturbed_loss = loss_fn(perturbed_preds, y_true).item()\n",
        "\n",
        "  # return scalar\n",
        "  return loss.item(), y_pred.cpu(), (perturbed_loss, perturbed_pred, perturbed_data)\n",
        "\n",
        "def fgsm_attack(data, epsilon, data_grad):\n",
        "  sign = data_grad.sign()\n",
        "  perturbed_image = data + epsilon * sign\n",
        "  return torch.clamp(perturbed_image, 0, 1)\n",
        "\n",
        "def get_loss_and_accuracy(losses, preds, true_set):\n",
        "  total_count = len(true_set)\n",
        "  correct_count = 0\n",
        "\n",
        "  true_set_tensor = torch.as_tensor(true_set)\n",
        "  preds_tensor = torch.as_tensor(preds)\n",
        "  correct_count += (preds_tensor == true_set_tensor).sum().item()\n",
        "  logger.debug(f\"Predictions: {preds_tensor}\")\n",
        "  logger.debug(f\"Ground Truth: {true_set_tensor}\")\n",
        "  logger.debug(correct_count)\n",
        "  logger.debug(total_count)\n",
        "\n",
        "  error = np.array(losses).mean()\n",
        "  accuracy =  correct_count / total_count \n",
        "  return accuracy, error\n",
        "\n",
        "def fit(epochs, model, opt, train_set, loss_fn, val_set=None):\n",
        "  train_accuracies = []\n",
        "  train_errors = []\n",
        "  val_accuracies = []\n",
        "  val_errors = []\n",
        "\n",
        "  for _ in range(epochs):\n",
        "    model.train()\n",
        "\n",
        "    train_losses = []\n",
        "    train_preds = []\n",
        "    training_ys = []\n",
        "    \n",
        "    for x,y in train_set:\n",
        "      loss, pred, _ = calculate_loss_and_update(model, loss_fn, opt, x, y)\n",
        "      training_ys.extend(y.detach())\n",
        "      train_losses.append(loss)\n",
        "      train_preds.extend(pred.detach().tolist())\n",
        "\n",
        "    train_accuracy, train_loss = get_loss_and_accuracy(train_losses, train_preds, training_ys)\n",
        "    train_accuracies.append(train_accuracy)\n",
        "    train_errors.append(train_loss)\n",
        "\n",
        "    if val_set is not None:\n",
        "      val_accuracy, val_loss, *_ = evaluate(model, val_set, loss_fn)\n",
        "      val_accuracies.append(val_accuracy)\n",
        "      val_errors.append(val_loss)\n",
        "\n",
        "  return train_accuracies, train_errors, val_accuracies, val_errors\n",
        "\n",
        "def evaluate(model, val_set, loss_fn, fgsm_attack = None):\n",
        "  model.eval()\n",
        "\n",
        "  val_losses = []\n",
        "  val_preds = []\n",
        "  val_ys = []\n",
        "\n",
        "  fgsm_losses = []\n",
        "  fgsm_preds = []\n",
        "  fgsm_images = []\n",
        "\n",
        "  for x,y in val_set:\n",
        "    loss, pred, fgsm_data = calculate_loss_and_update(model, loss_fn, None, x, y, fgsm_attack)\n",
        "\n",
        "    if fgsm_attack:\n",
        "      fgsm_loss, fgsm_pred, fgsm_image = fgsm_data\n",
        "      fgsm_losses.append(fgsm_loss)\n",
        "      fgsm_preds.extend(fgsm_pred.detach())\n",
        "      fgsm_images.extend(fgsm_image.detach())\n",
        "\n",
        "    val_ys.extend(y.detach())\n",
        "    val_losses.append(loss)\n",
        "    val_preds.extend(pred.detach())\n",
        "  \n",
        "  val_accuracy, val_loss = get_loss_and_accuracy(val_losses, val_preds, val_ys)\n",
        "  fgsm_accuracy, fgsm_loss = None, None\n",
        "\n",
        "  if fgsm_attack:\n",
        "    fgsm_accuracy, fgsm_loss = get_loss_and_accuracy(fgsm_losses, fgsm_preds, val_ys)\n",
        "\n",
        "  return val_accuracy, val_loss, fgsm_accuracy, fgsm_loss, fgsm_images, fgsm_preds, val_ys\n",
        "\n",
        "NO_OF_EPOCHS=16\n",
        "train_accuracy, train_error, val_accuracy, val_error = fit(NO_OF_EPOCHS, conv_net, opt, train_dl, cross_entropy, val_dl)"
      ]
    },
    {
      "cell_type": "code",
      "execution_count": 24,
      "metadata": {
        "id": "7WNUHzReZps3",
        "colab": {
          "base_uri": "https://localhost:8080/",
          "height": 367
        },
        "outputId": "159aa29b-8212-4d33-da78-b1f368e1ac0b"
      },
      "outputs": [
        {
          "output_type": "stream",
          "name": "stderr",
          "text": [
            "2022-03-21 02:00:29.519 | INFO     | __main__:<module>:3 - [0.2459, 0.6904, 0.8042, 0.8535, 0.8885, 0.9029, 0.9166, 0.9218, 0.9288, 0.9328, 0.9383, 0.9401, 0.9474, 0.9455, 0.9503, 0.9501]\n",
            "2022-03-21 02:00:29.521 | INFO     | __main__:<module>:4 - [0.67316, 0.8848, 0.92336, 0.93958, 0.95044, 0.95648, 0.96242, 0.96512, 0.96738, 0.9701, 0.97154, 0.9727, 0.97346, 0.97498, 0.97642, 0.9764]\n"
          ]
        },
        {
          "output_type": "execute_result",
          "data": {
            "text/plain": [
              "[<matplotlib.lines.Line2D at 0x7efb8009e9d0>]"
            ]
          },
          "metadata": {},
          "execution_count": 24
        },
        {
          "output_type": "display_data",
          "data": {
            "text/plain": [
              "<Figure size 432x288 with 1 Axes>"
            ],
            "image/png": "[encoded data removed]"
          },
          "metadata": {
            "needs_background": "light"
          }
        }
      ],
      "source": [
        "import matplotlib.pyplot as plt\n",
        "\n",
        "logger.info(train_accuracy)\n",
        "logger.info(val_accuracy)\n",
        "\n",
        "_, ax = plt.subplots()\n",
        "\n",
        "ax.plot(train_error, label=\"Training\")\n",
        "ax.plot(val_error, label=\"Test\")\n",
        "ax.set_title(\"Error over Epoch\")\n",
        "ax.legend()\n",
        "ax.set_xlabel(\"Epoch\")\n",
        "ax.set_ylabel(\"Error\")\n",
        "\n",
        "plt.plot(train_error)\n",
        "plt.plot(val_error)"
      ]
    },
    {
      "cell_type": "markdown",
      "metadata": {
        "id": "U3InYKMn_DkY"
      },
      "source": [
        "## Question 4"
      ]
    },
    {
      "cell_type": "markdown",
      "metadata": {
        "id": "d5dJj8ZL_Dka"
      },
      "source": [
        "Suppose that you have a fully trained network, and that you wanted to find images that \"fooled\" it, i.e., images that are misclassified by your network.\n",
        "\n",
        "One simple approach would be to take an input image, and then alter it in the direction of ascent of the gradient of the loss w.r.t to the pixels of that input image. Mathematically:\n",
        "\n",
        "$\n",
        "\\begin{equation}\n",
        "x^´ = x + \\epsilon \\,\\text{sign}\\left[\\nabla_x \\mathcal{L(\\theta,x,y}) \\right]\n",
        "\\end{equation}\n",
        "$,\n",
        "\n",
        "where $x^´$ is the (perturbed) image you hope will fool the classifier, $x$ is the input image, $y$ is the label of the original image, $\\theta$ are the network parameters, $\\epsilon$ is a hyperparameter controlling the strength of the perturbation, and $\\mathcal{L}$ is the loss.\n",
        "\n",
        "Implement this in Pytorch, using the model you trained in question 3. Generate one $x'$ for all the images in the MNIST testing set, keep the $x^´$ that sucessfully fool your model, alongside their original labels and their predicted (wrong) labels, and print out the accuracy of your model in the perturbed testing set (all the $x^´$ obtained from the images in the original testing set using the equation above), for the following epsilons: $\\epsilon = 0,0.05,0.15,0.25$\n",
        "\n",
        "**Hint**: A line of code similar to \"data.requires_grad = True\" is needed somewhere in your solution"
      ]
    },
    {
      "cell_type": "markdown",
      "metadata": {
        "id": "3xE907qq_DkZ"
      },
      "source": [
        "### Part 1"
      ]
    },
    {
      "cell_type": "code",
      "execution_count": 25,
      "metadata": {
        "colab": {
          "base_uri": "https://localhost:8080/"
        },
        "id": "gxx_OwIH1rOx",
        "outputId": "6fe7f8ef-24b5-4536-9b01-865af6b8d225"
      },
      "outputs": [
        {
          "output_type": "stream",
          "name": "stderr",
          "text": [
            "/usr/local/lib/python3.7/dist-packages/torch/nn/modules/container.py:141: UserWarning: Implicit dimension choice for log_softmax has been deprecated. Change the call to include dim=X as an argument.\n",
            "  input = module(input)\n",
            "2022-03-21 02:00:37.172 | INFO     | __main__:<module>:4 - EPSILON: 0\n",
            "2022-03-21 02:00:37.173 | INFO     | __main__:<module>:5 - VAL MEAN ACCURACY: 0.9764\n",
            "2022-03-21 02:00:37.174 | INFO     | __main__:<module>:6 - VAL MEAN LOSS: 0.08083900050146986\n",
            "2022-03-21 02:00:37.176 | INFO     | __main__:<module>:7 - FGSM MEAN ACCURACY: 0.9764\n",
            "2022-03-21 02:00:37.177 | INFO     | __main__:<module>:8 - FGSM MEAN ACCURACY: 0.08083900050146986\n",
            "2022-03-21 02:00:43.669 | INFO     | __main__:<module>:4 - EPSILON: 0.05\n",
            "2022-03-21 02:00:43.723 | INFO     | __main__:<module>:5 - VAL MEAN ACCURACY: 0.9764\n",
            "2022-03-21 02:00:43.725 | INFO     | __main__:<module>:6 - VAL MEAN LOSS: 0.08083900050146986\n",
            "2022-03-21 02:00:43.727 | INFO     | __main__:<module>:7 - FGSM MEAN ACCURACY: 0.93294\n",
            "2022-03-21 02:00:43.728 | INFO     | __main__:<module>:8 - FGSM MEAN ACCURACY: 0.22017283793872275\n",
            "2022-03-21 02:00:50.158 | INFO     | __main__:<module>:4 - EPSILON: 0.15\n",
            "2022-03-21 02:00:50.159 | INFO     | __main__:<module>:5 - VAL MEAN ACCURACY: 0.9764\n",
            "2022-03-21 02:00:50.160 | INFO     | __main__:<module>:6 - VAL MEAN LOSS: 0.08083900050146986\n",
            "2022-03-21 02:00:50.161 | INFO     | __main__:<module>:7 - FGSM MEAN ACCURACY: 0.70536\n",
            "2022-03-21 02:00:50.162 | INFO     | __main__:<module>:8 - FGSM MEAN ACCURACY: 1.006136965949822\n",
            "2022-03-21 02:00:56.467 | INFO     | __main__:<module>:4 - EPSILON: 0.25\n",
            "2022-03-21 02:00:56.468 | INFO     | __main__:<module>:5 - VAL MEAN ACCURACY: 0.9764\n",
            "2022-03-21 02:00:56.469 | INFO     | __main__:<module>:6 - VAL MEAN LOSS: 0.08083900050146986\n",
            "2022-03-21 02:00:56.471 | INFO     | __main__:<module>:7 - FGSM MEAN ACCURACY: 0.28562\n",
            "2022-03-21 02:00:56.474 | INFO     | __main__:<module>:8 - FGSM MEAN ACCURACY: 2.6528110051399\n"
          ]
        }
      ],
      "source": [
        "from functools import partial\n",
        "for epsilon in [0, 0.05, 0.15, 0.25]:\n",
        "  val_accuracy, val_loss, fgsm_accuracy, fgsm_loss, fgsm_images, fgsm_preds, val_ys = evaluate(conv_net, val_dl, cross_entropy, partial(fgsm_attack, epsilon=epsilon))\n",
        "  logger.info(f\"EPSILON: {epsilon}\")\n",
        "  logger.info(f\"VAL MEAN ACCURACY: {val_accuracy}\")\n",
        "  logger.info(f\"VAL MEAN LOSS: {val_loss}\")\n",
        "  logger.info(f\"FGSM MEAN ACCURACY: {fgsm_accuracy}\")\n",
        "  logger.info(f\"FGSM MEAN ACCURACY: {fgsm_loss}\")"
      ]
    },
    {
      "cell_type": "markdown",
      "metadata": {
        "id": "BxGsAKD3_Dkb"
      },
      "source": [
        "### Part 2"
      ]
    },
    {
      "cell_type": "markdown",
      "metadata": {
        "id": "2hScJSUn_Dkc"
      },
      "source": [
        "Show some of the images that fooled your network in part 1 (plt.imshow will come in handy), making sure to include both what their original and perturbed labels were in the title of your plot. Does it make sense to you that these images are fooling your network? Why or why not?"
      ]
    },
    {
      "cell_type": "code",
      "execution_count": 26,
      "metadata": {
        "id": "Gn_OtmKaLCG-",
        "colab": {
          "base_uri": "https://localhost:8080/",
          "height": 1000
        },
        "outputId": "8ba8e537-8da4-4824-db75-30d5ba566b98"
      },
      "outputs": [
        {
          "output_type": "display_data",
          "data": {
            "text/plain": [
              "<Figure size 1296x1296 with 20 Axes>"
            ],
            "image/png": "[encoded data removed]"
          },
          "metadata": {
            "needs_background": "light"
          }
        }
      ],
      "source": [
        "ROWS = 5\n",
        "COLUMNS = 4\n",
        "fig, ax = plt.subplots(nrows=ROWS, ncols=COLUMNS, figsize=(18, 18))\n",
        "for index in range(ROWS * COLUMNS):\n",
        "  sample_image = fgsm_images[index].cpu().detach().numpy()[0]\n",
        "  pred_label = fgsm_preds[index]\n",
        "  true_label = val_ys[index]\n",
        "  current_ax = ax.ravel()[index]\n",
        "  current_ax.imshow(sample_image)\n",
        "  current_ax.set_title(f\"Prediction: {pred_label}, Ground Truth: {true_label}\")"
      ]
    },
    {
      "cell_type": "markdown",
      "source": [
        "#### Reasoning\n",
        "\n",
        "For the most part, the misclasifications are reasonable to a certain extent. Most of the errenous classification made are a direct result of being unable to classify certain delimiting sections.\n",
        "\n",
        "For example, the 6 on the bottom right is predicted to be 5, which isn't far from the truth. In fact, 5 and 6 have pretty similar shapes with the exception of the section which closes the number. If the 6 were to have a break in its loop, someone could reasonably assert that it could be a 5.\n",
        "\n",
        "Similarly, a similar pattern can be seen with the 9 (predicted to be a 4) on the bottom left and the 7 predicted to be a 9 (first row, third column)."
      ],
      "metadata": {
        "id": "Z2Fj6GbANRlz"
      }
    },
    {
      "cell_type": "markdown",
      "metadata": {
        "id": "RvQHgwv3_Dkd"
      },
      "source": [
        "## Question 5 (6505 only)"
      ]
    },
    {
      "cell_type": "markdown",
      "metadata": {
        "id": "ufQXXFqu_Dkd"
      },
      "source": [
        "Can you think of a way to make your network more robust to these perturbed images? Does your proposal have drawbacks? Run any experiments you feel are needed to prove your claims.\n",
        "\n",
        "**Note**: You are not expected to find a perfect solution, just something that makes sense and has some evidence backing it up. You will be marked on the persuasiveness of your argument/experiments and how much sense your proposal makes, not the overall improvements in robustness you achieve (however, if your proposal worsens the problem, then that's a pretty solid hint you're going in the wrong direction)."
      ]
    },
    {
      "cell_type": "code",
      "execution_count": 26,
      "metadata": {
        "id": "GgErVQX2_Dke"
      },
      "outputs": [],
      "source": [
        ""
      ]
    }
  ],
  "metadata": {
    "accelerator": "GPU",
    "colab": {
      "collapsed_sections": [],
      "machine_shape": "hm",
      "name": "Copy of Assignment1-Step2-Students.ipynb",
      "provenance": [],
      "include_colab_link": true
    },
    "kernelspec": {
      "display_name": "Python 3 (ipykernel)",
      "language": "python",
      "name": "python3"
    },
    "language_info": {
      "codemirror_mode": {
        "name": "ipython",
        "version": 3
      },
      "file_extension": ".py",
      "mimetype": "text/x-python",
      "name": "python",
      "nbconvert_exporter": "python",
      "pygments_lexer": "ipython3",
      "version": "3.8.12+"
    }
  },
  "nbformat": 4,
  "nbformat_minor": 0
}