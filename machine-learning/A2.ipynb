{
  "nbformat": 4,
  "nbformat_minor": 0,
  "metadata": {
    "accelerator": "GPU",
    "colab": {
      "name": "Mukhammadnaim-Urmzd-Assignment-2.ipynb",
      "provenance": [],
      "collapsed_sections": []
    },
    "kernelspec": {
      "display_name": "Python 3",
      "language": "python",
      "name": "python3"
    },
    "language_info": {
      "codemirror_mode": {
        "name": "ipython",
        "version": 3
      },
      "file_extension": ".py",
      "mimetype": "text/x-python",
      "name": "python",
      "nbconvert_exporter": "python",
      "pygments_lexer": "ipython3",
      "version": "3.9.5"
    }
  },
  "cells": [
    {
      "cell_type": "markdown",
      "metadata": {
        "id": "A3LkNEvNVZgj"
      },
      "source": [
        "<center>\n",
        "<h1>CSCI3151 - Foundations of Machine Learning</h1>\n",
        "<h1>Assignment 2</h1>\n",
        "Summer 2021\n",
        "</center>"
      ]
    },
    {
      "cell_type": "markdown",
      "metadata": {
        "id": "fB1EpJmdSOQv"
      },
      "source": [
        "<center>\n",
        "<b> Due on: 25 June 2021, 23:30 ADT  </b> \n",
        "</center>"
      ]
    },
    {
      "cell_type": "markdown",
      "metadata": {
        "id": "2j3wx31utEJB"
      },
      "source": [
        "Your assignment is to be submitted as a single `.ipynb` file **(please do not zip it when submitting to brightspace)** including your answers to both the math and the experimental questions, in the correct order, on Brightspace. Use [markdown syntax](https://www.markdownguide.org/cheat-sheet/) to format your answers"
      ]
    },
    {
      "cell_type": "markdown",
      "metadata": {
        "id": "-fazx3ZWLioe"
      },
      "source": [
        "Note: in solving the math questions, aim for general (symbolic) solutions and substitute the specific numbers at the end. This demonstrates a solid understanding of the key concepts. \n",
        "You can answer the math questions in two ways:\n",
        "*   **Use LaTeX to typeset the equations**. Section H of [this LaTeX reference sheet](http://tug.ctan.org/info/latex-refsheet/LaTeX_RefSheet.pdf) is a good reference. Here is another [LaTeX reference sheet](https://math.meta.stackexchange.com/questions/5020/mathjax-basic-tutorial-and-quick-reference).\n",
        "The equations in the questions are typeset in LaTeX, so you can use them as examples. \n",
        "*   **Use neat handwriting**, scan your solution using [Camscanner](https://www.camscanner.com/user/download) on your mobile phone, upload the image file, and embed it in your solution notebook. To this end (1) create an empty Markdown cell. 2) Drag-and-drop the image file into the empty Markdown cell, or click on the image icon at the top of the cell and select the image file. The Markdown code that will embed the image, together with its content, then appears.   \n"
      ]
    },
    {
      "cell_type": "markdown",
      "metadata": {
        "id": "ctf7gGIgcVXH"
      },
      "source": [
        "Your answers to the experimental questions should be in your solution notebook, in the form of code and text cells, using markdown for your text responses. You should also include the results of running your code. "
      ]
    },
    {
      "cell_type": "markdown",
      "metadata": {
        "id": "ZS81IRPHrqhM"
      },
      "source": [
        "The marking criteria are described in rubrics. There are two rubrics, for math questions, and for experimental questions, respectively. "
      ]
    },
    {
      "cell_type": "markdown",
      "metadata": {
        "id": "S_QHus3qtNB_"
      },
      "source": [
        "You can submit multiple editions of your assignment. Only the last one will be marked. It is recommended to upload a complete submission, even if you are still improving it, so that you have something into the system if your computer fails for whatever reason.  \n",
        "\n",
        "**IMPORTANT**: PLEASE NAME YOUR PYTHON NOTEBOOK FILE AS: \n",
        "* `<LAST_NAME>-<FIRST_NAME>-Assignment-N.ipynb`\n",
        "\n",
        "for example: **Milios-Evangelos-Assignment-2.ipynb** \\\\\n"
      ]
    },
    {
      "cell_type": "markdown",
      "metadata": {
        "id": "P5CHYM0eQ-AK"
      },
      "source": [
        "## **1. Gradient descent - Logistic regression**\n",
        "\n",
        "\n",
        "\n",
        "\n",
        "\n",
        "\n",
        "\n",
        "\n",
        "\n",
        " "
      ]
    },
    {
      "cell_type": "markdown",
      "metadata": {
        "id": "LAu3PXuw4gbu"
      },
      "source": [
        "In this question we are going to experiment with logistic regression. This exercise focuses on the inner workings of gradient descent using a cross-entropy cost function as it was learned in class."
      ]
    },
    {
      "cell_type": "markdown",
      "metadata": {
        "id": "BYx5OmoaO5xp"
      },
      "source": [
        "a) Using the [Pima Indians Diabetes Dataset](https://www.kaggle.com/uciml/pima-indians-diabetes-database), first apply a feature selection algorithm based on evaluating feature importance using [Pearson correlation](https://en.wikipedia.org/wiki/Pearson_correlation_coefficient) (see <a href=https://docs.scipy.org/doc/scipy-0.15.1/reference/generated/scipy.stats.pearsonr.html>scipy documentation</a>). Extract the top two most important features based on this measure. Then, separate a random 20% of your data instances for validation.\n"
      ]
    },
    {
      "cell_type": "code",
      "metadata": {
        "colab": {
          "base_uri": "https://localhost:8080/"
        },
        "id": "-zVuknNHVByf",
        "outputId": "cb72450d-4f1b-4292-85a6-53668c669fbc"
      },
      "source": [
        "from google.colab import drive\n",
        "drive.mount('/content/drive', force_remount=True)"
      ],
      "execution_count": 28,
      "outputs": [
        {
          "output_type": "stream",
          "text": [
            "Mounted at /content/drive\n"
          ],
          "name": "stdout"
        }
      ]
    },
    {
      "cell_type": "code",
      "metadata": {
        "id": "lfzidLP7U88z"
      },
      "source": [
        "# Load modules.\n",
        "import pandas as pd\n",
        "import numpy as np\n",
        "from sklearn import model_selection\n",
        "from scipy import stats\n",
        "\n",
        "def init(file_name: str = \"/content/drive/MyDrive/diabetes.csv\", number_of_features=2, with_bias=True, verbose=True):\n",
        "    \"\"\"\n",
        "        @param file_name: Indicates name of data set to load.\n",
        "        @param number_of_features: Indicates number of features to choose based on Pearson correlation.\n",
        "        @returns: A tuple containing X_test, X_train, Y_test, Y_train.\n",
        "    \"\"\"\n",
        "    # Load data set.\n",
        "    df = pd.read_csv(file_name)\n",
        "    \n",
        "    # Extract all feature names.\n",
        "    X = df.drop(\"Outcome\", axis = 1)\n",
        "    Y = df[\"Outcome\"]\n",
        "\n",
        "    # Get column names.\n",
        "    labels = X.columns\n",
        "\n",
        "    # Convert data to numpy arrays.\n",
        "    X = X.to_numpy()\n",
        "    Y = Y.to_numpy()\n",
        "\n",
        "    # Determine most important features.\n",
        "    r_vals = [stats.pearsonr(x, Y)[0] for x in X.T]\n",
        "    features_to_use = np.argsort(r_vals)[-number_of_features:]\n",
        "    features_to_use_labels = [labels[x] for x in features_to_use]\n",
        "\n",
        "    # Output labels.\n",
        "    if verbose:\n",
        "        print(f\"Features being used: {features_to_use_labels}\")\n",
        "\n",
        "    # Retrieve data from X that uses columns from the most important features.\n",
        "    X = df.iloc[:, features_to_use].to_numpy()\n",
        "    \n",
        "    if with_bias:\n",
        "        X = np.c_[np.ones((len(X), 1)), X]\n",
        "\n",
        "    # Split X and Y into testing and training sets.\n",
        "    X_train, X_test, Y_train, Y_test = model_selection.train_test_split(X, Y, test_size=0.2, random_state=42)\n",
        "    \n",
        "    return X_train, X_test, Y_train, Y_test"
      ],
      "execution_count": 29,
      "outputs": []
    },
    {
      "cell_type": "markdown",
      "metadata": {
        "id": "QfmMYM75oauo"
      },
      "source": [
        "b) We want to train a logistic regression model to predict the target feature *Outcome* . It’s important that no other external package is used (pandas, numpy are ok) **for this question part** . We want to find the weights for the logistic regression using a hand made gradient descent algorithm. We will use cross-entropy as the cost function, and the logistic cross-entropy to compute the weight update during gradient descent. It is OK to reuse as much as you need from the code you developed for Assignment 1. Differently from what we did for Assignment 1, we are now using a random 20% of your data instances for validation.\n",
        "\n",
        "Your function should be able to return the updated weights and bias after every iteration of the gradient descent algorithm.\n",
        "\n",
        "Your function should be defined as follows:\n",
        "\n",
        "``\n",
        "def LRGradDesc( data, target, weight_init, bias_init, learning_rate, max_iter ):``\n",
        "\n",
        "And it should print lines as indicated below (note the last line with the weights):\n",
        "\n",
        "`Iteration 0: [initial_train cost], [train accuracy], [validation accuracy]`\n",
        "\n",
        "`Iteration 1: [train cost after first iteration], [train accuracy after first iteration], [validation accuracy after first iteration]`\n",
        "\n",
        "`Iteration 2: [weights after second iteration], [train cost after second iteration], [train accuracy after second iteration], [validation accuracy after second iteration]`\n",
        "\n",
        "…\n",
        "\n",
        "`Iteration max_iter : [weights after max_iter iteration], [train cost after max_iter iteration], [train accuracy after max_iter iteration], [validation accuracy after max_iter iterations]`\n",
        "\n",
        "`Final weights: [bias], [w_0], [w_1]`\n",
        "\n",
        "Note that you may want to print every 100 or every 1000 iterations if `max_iter` is a fairly large number (but you shouldn’t have more iterations than the indicated in `max_iter`)."
      ]
    },
    {
      "cell_type": "code",
      "metadata": {
        "id": "y7pLKxhBWLqi"
      },
      "source": [
        "from IPython.display import display\n",
        "\n",
        "def accuracy(y_pred: np.ndarray, y_actual: np.ndarray) -> np.float64:\n",
        "    \"\"\"\n",
        "        @param: y_pred: Predicted Y values.\n",
        "        @param: y_actual: Target Y values.\n",
        "        @return: Accuracy of y_pred in respect to y_actual.\n",
        "    \"\"\"\n",
        "    return (y_pred == y_actual).mean()\n",
        "\n",
        "\n",
        "def sigmoid(z):\n",
        "    return 1 / (1 + np.exp(-z))\n",
        "\n",
        "\n",
        "def predict(X: np.ndarray, theta: np.ndarray) -> np.ndarray:\n",
        "    z = X @ theta\n",
        "    y_pred = sigmoid(z)\n",
        "\n",
        "    y_pred[y_pred <= 0.5] = 0\n",
        "    y_pred[y_pred > 0.5] = 1\n",
        "\n",
        "    return y_pred\n",
        "\n",
        "\n",
        "def LRGradDesc(data,\n",
        "               target,\n",
        "               weight_init=np.ones((2, )),\n",
        "               bias_init=1,\n",
        "               learning_rate=0.01,\n",
        "               max_iter=1000):\n",
        "    \n",
        "    theta = np.array([bias_init, *weight_init])\n",
        "\n",
        "    def execute(\n",
        "            X_test: np.ndarray,\n",
        "            Y_test: np.ndarray,\n",
        "            step: int = 0,\n",
        "            verbose: bool = True):\n",
        "        \"\"\"\n",
        "            @param X_test: Test set containing input samples.\n",
        "            @parma Y_test: Test set containg output samples.\n",
        "            @param skip: Indicates the step on which to print required text. A value of 0 will print all values.\n",
        "            @param verbose: Indicates whether to print values or not.\n",
        "            @return: Cost and weights associated with current iteration.\n",
        "        \"\"\"\n",
        "\n",
        "        table = {}\n",
        "        \n",
        "        for iteration in range(max_iter):\n",
        "            # Calculate estimated values.\n",
        "            nonlocal theta, data, target\n",
        "            z = data @ theta\n",
        "\n",
        "            # Calculate logistic function.\n",
        "            y = sigmoid(z)\n",
        "\n",
        "            # Calculate cost.\n",
        "            training_cost = -(target * np.log(y) +\n",
        "                              (1 - target) * np.log(1 - y)).mean()\n",
        "\n",
        "            # Calculate Accuracy\n",
        "            Y_pred_train = predict(data, theta)\n",
        "            Y_pred_test = predict(X_test, theta)\n",
        "\n",
        "            training_accuracy = accuracy(Y_pred_train, target)\n",
        "            testing_accuracy = accuracy(Y_pred_test, Y_test)\n",
        "\n",
        "            # Output current cost and weight.\n",
        "            yield training_cost, theta\n",
        "        \n",
        "            if verbose:\n",
        "                table[f\"Iteration {iteration}\"] = {\n",
        "                    \"weights\": list(map(lambda x: f\"{x:.2f}\", theta)),\n",
        "                    \"training_cost\": f\"{training_cost:.2f}\",\n",
        "                    \"training_accuracy\": f\"{training_accuracy:.2f}\",\n",
        "                    \"testing_accuracy\": f\"{testing_accuracy:.2f}\"\n",
        "                }\n",
        "                \n",
        "            theta -= learning_rate / len(data) * (data.T @ (y - target))\n",
        "        \n",
        "        table[\"Final\"] = {\"weights\": list(map(lambda x: f\"{x:.2f}\", theta))}\n",
        "        if verbose:\n",
        "            df = pd.DataFrame.from_dict(table, orient=\"index\")\n",
        "            if step:\n",
        "                df = df.iloc[::step, :]\n",
        "            display(df)\n",
        "    return execute"
      ],
      "execution_count": 30,
      "outputs": []
    },
    {
      "cell_type": "code",
      "metadata": {
        "colab": {
          "base_uri": "https://localhost:8080/",
          "height": 408
        },
        "id": "GTmRwBBLU884",
        "outputId": "94cb86c1-7b86-4fa1-cb77-062c04c3f45c"
      },
      "source": [
        "from sklearn import preprocessing\n",
        "\n",
        "def norm_init(number_of_features:int=2, verbose=False):\n",
        "    X_train, X_test, Y_train, Y_test = init(with_bias=False, number_of_features=number_of_features, verbose=verbose)\n",
        "    normalizer = preprocessing.StandardScaler()\n",
        "    X_train_norm = np.c_[np.ones((len(X_train), 1)), (normalizer.fit_transform(X_train))]\n",
        "    X_test_norm = np.c_[np.ones((len(X_test), 1)), normalizer.transform(X_test)]\n",
        "    \n",
        "    return X_train_norm, X_test_norm, Y_train, Y_test\n",
        "    \n",
        "X_train_norm, X_test_norm, Y_train, Y_test = norm_init()\n",
        "\n",
        "# Test.\n",
        "lr = LRGradDesc(X_train_norm, Y_train)(X_test_norm, Y_test, step=5)\n",
        "for _ in lr: pass"
      ],
      "execution_count": 31,
      "outputs": [
        {
          "output_type": "display_data",
          "data": {
            "text/html": [
              "<div>\n",
              "<style scoped>\n",
              "    .dataframe tbody tr th:only-of-type {\n",
              "        vertical-align: middle;\n",
              "    }\n",
              "\n",
              "    .dataframe tbody tr th {\n",
              "        vertical-align: top;\n",
              "    }\n",
              "\n",
              "    .dataframe thead th {\n",
              "        text-align: right;\n",
              "    }\n",
              "</style>\n",
              "<table border=\"1\" class=\"dataframe\">\n",
              "  <thead>\n",
              "    <tr style=\"text-align: right;\">\n",
              "      <th></th>\n",
              "      <th>weights</th>\n",
              "      <th>training_cost</th>\n",
              "      <th>training_accuracy</th>\n",
              "      <th>testing_accuracy</th>\n",
              "    </tr>\n",
              "  </thead>\n",
              "  <tbody>\n",
              "    <tr>\n",
              "      <th>Iteration 0</th>\n",
              "      <td>[1.00, 1.00, 1.00]</td>\n",
              "      <td>0.81</td>\n",
              "      <td>0.58</td>\n",
              "      <td>0.59</td>\n",
              "    </tr>\n",
              "    <tr>\n",
              "      <th>Iteration 5</th>\n",
              "      <td>[0.98, 1.00, 1.00]</td>\n",
              "      <td>0.80</td>\n",
              "      <td>0.58</td>\n",
              "      <td>0.58</td>\n",
              "    </tr>\n",
              "    <tr>\n",
              "      <th>Iteration 10</th>\n",
              "      <td>[0.97, 1.00, 1.00]</td>\n",
              "      <td>0.80</td>\n",
              "      <td>0.58</td>\n",
              "      <td>0.59</td>\n",
              "    </tr>\n",
              "    <tr>\n",
              "      <th>Iteration 15</th>\n",
              "      <td>[0.95, 0.99, 1.01]</td>\n",
              "      <td>0.79</td>\n",
              "      <td>0.58</td>\n",
              "      <td>0.59</td>\n",
              "    </tr>\n",
              "    <tr>\n",
              "      <th>Iteration 20</th>\n",
              "      <td>[0.94, 0.99, 1.01]</td>\n",
              "      <td>0.79</td>\n",
              "      <td>0.58</td>\n",
              "      <td>0.60</td>\n",
              "    </tr>\n",
              "    <tr>\n",
              "      <th>...</th>\n",
              "      <td>...</td>\n",
              "      <td>...</td>\n",
              "      <td>...</td>\n",
              "      <td>...</td>\n",
              "    </tr>\n",
              "    <tr>\n",
              "      <th>Iteration 980</th>\n",
              "      <td>[-0.50, 0.71, 1.05]</td>\n",
              "      <td>0.51</td>\n",
              "      <td>0.76</td>\n",
              "      <td>0.76</td>\n",
              "    </tr>\n",
              "    <tr>\n",
              "      <th>Iteration 985</th>\n",
              "      <td>[-0.51, 0.71, 1.05]</td>\n",
              "      <td>0.51</td>\n",
              "      <td>0.76</td>\n",
              "      <td>0.76</td>\n",
              "    </tr>\n",
              "    <tr>\n",
              "      <th>Iteration 990</th>\n",
              "      <td>[-0.51, 0.70, 1.05]</td>\n",
              "      <td>0.51</td>\n",
              "      <td>0.76</td>\n",
              "      <td>0.76</td>\n",
              "    </tr>\n",
              "    <tr>\n",
              "      <th>Iteration 995</th>\n",
              "      <td>[-0.51, 0.70, 1.05]</td>\n",
              "      <td>0.51</td>\n",
              "      <td>0.75</td>\n",
              "      <td>0.76</td>\n",
              "    </tr>\n",
              "    <tr>\n",
              "      <th>Final</th>\n",
              "      <td>[-0.52, 0.70, 1.05]</td>\n",
              "      <td>NaN</td>\n",
              "      <td>NaN</td>\n",
              "      <td>NaN</td>\n",
              "    </tr>\n",
              "  </tbody>\n",
              "</table>\n",
              "<p>201 rows × 4 columns</p>\n",
              "</div>"
            ],
            "text/plain": [
              "                           weights  ... testing_accuracy\n",
              "Iteration 0     [1.00, 1.00, 1.00]  ...             0.59\n",
              "Iteration 5     [0.98, 1.00, 1.00]  ...             0.58\n",
              "Iteration 10    [0.97, 1.00, 1.00]  ...             0.59\n",
              "Iteration 15    [0.95, 0.99, 1.01]  ...             0.59\n",
              "Iteration 20    [0.94, 0.99, 1.01]  ...             0.60\n",
              "...                            ...  ...              ...\n",
              "Iteration 980  [-0.50, 0.71, 1.05]  ...             0.76\n",
              "Iteration 985  [-0.51, 0.71, 1.05]  ...             0.76\n",
              "Iteration 990  [-0.51, 0.70, 1.05]  ...             0.76\n",
              "Iteration 995  [-0.51, 0.70, 1.05]  ...             0.76\n",
              "Final          [-0.52, 0.70, 1.05]  ...              NaN\n",
              "\n",
              "[201 rows x 4 columns]"
            ]
          },
          "metadata": {
            "tags": []
          }
        }
      ]
    },
    {
      "cell_type": "markdown",
      "metadata": {
        "id": "MYsV4rmOtEas"
      },
      "source": [
        "c) Discuss how the choice of learning_rate affects the fitting of the model."
      ]
    },
    {
      "cell_type": "code",
      "metadata": {
        "scrolled": true,
        "colab": {
          "base_uri": "https://localhost:8080/",
          "height": 299
        },
        "id": "XB4kny0ZU886",
        "outputId": "ea755e10-25b2-4ab3-8d88-216b987a406e"
      },
      "source": [
        "import matplotlib.pyplot as plt\n",
        "\n",
        "learning_rates = [(x/(10**(i+1))) for i, x in enumerate([100]*10)]\n",
        "\n",
        "fig, ax = plt.subplots()\n",
        "\n",
        "for learning_rate in learning_rates:\n",
        "    lr = LRGradDesc(X_train_norm, Y_train, learning_rate=learning_rate)(X_test_norm, Y_test, verbose=False)\n",
        "    lr_list = list(map(lambda x: x[0], lr))\n",
        "    ax.plot(list(range(len(lr_list))), lr_list, label=fr\"$\\alpha = {learning_rate}$\")\n",
        "    \n",
        "ax.set_title(\"Effect of Learning Rate on Fitting\")\n",
        "ax.legend(title=\"Learning Rate\", bbox_to_anchor=(1.05, 1))\n",
        "ax.set_xlabel(\"No. of Iterations\")\n",
        "ax.set_xscale('log')\n",
        "ax.set_ylabel(\"Training Cost\")\n",
        "ax.autoscale(True)\n",
        "ax.grid()\n"
      ],
      "execution_count": 32,
      "outputs": [
        {
          "output_type": "display_data",
          "data": {
            "image/png": "[encoded data removed]",
            "text/plain": [
              "<Figure size 432x288 with 1 Axes>"
            ]
          },
          "metadata": {
            "tags": [],
            "needs_background": "light"
          }
        }
      ]
    },
    {
      "cell_type": "markdown",
      "metadata": {
        "id": "sgFlIGhgU887"
      },
      "source": [
        "# Analysis\n",
        "Using the above figure as our source for analysis, we arrive to a few conclusions:\n",
        "1. As the learning rate increases to around $10$, we begin to derive our optimal model.\n",
        "2. As the learning rates decreases from around $10$, we begin to see that more iterations are required to converage and hence, derive our optimal model.\n",
        "3. As the learning rates increases from around $10$, we begin to see divergent behaviour, indicating our model is underfitted and hence, is sub-optimal."
      ]
    },
    {
      "cell_type": "markdown",
      "metadata": {
        "id": "xo7ZgG8itKfB"
      },
      "source": [
        "d) Compare your model with one using a machine learning library to compute logistic regression."
      ]
    },
    {
      "cell_type": "code",
      "metadata": {
        "colab": {
          "base_uri": "https://localhost:8080/",
          "height": 1000
        },
        "id": "-kaWdGdRU888",
        "outputId": "589d6c16-a3a0-4208-8bf9-6c5cc998fba8"
      },
      "source": [
        "from sklearn import linear_model, metrics\n",
        "import seaborn as sns\n",
        "\n",
        "sk_clf = linear_model.LogisticRegression(random_state=22)\n",
        "sk_clf.fit(X_train_norm, Y_train)\n",
        "sk_clf_Y_pred = sk_clf.predict(X_test_norm) \n",
        "\n",
        "custom_weights = list(LRGradDesc(X_train_norm, Y_train)(X_test_norm, Y_test, verbose=False))[-1][-1]\n",
        "custom_Y_pred = predict(X_test_norm, custom_weights)\n",
        "\n",
        "fig = plt.figure(figsize=(20,20))\n",
        "ax1 = fig.add_subplot(3, 1, 1)\n",
        "ax1.set_title(\"Y true vs Custom Y\")\n",
        "ax2 = fig.add_subplot(3, 1, 2)\n",
        "ax2.set_title(\"Y true vs SkLearn Y\")\n",
        "ax3 = fig.add_subplot(3, 1, 3)\n",
        "ax3.set_title(\"SkLearn Y vs Custom Y\")\n",
        "\n",
        "# Compare classifers predicted values against true values.\n",
        "con_mat_custom = metrics.confusion_matrix(Y_test, custom_Y_pred, normalize='all')\n",
        "con_mat_sklearn = metrics.confusion_matrix(Y_test, sk_clf_Y_pred, normalize='all')\n",
        "# Compare the two classifiers.\n",
        "con_mat_between = metrics.confusion_matrix(custom_Y_pred, sk_clf_Y_pred, normalize = 'all')\n",
        "sns.heatmap(con_mat_custom, ax=ax1, annot=True)\n",
        "sns.heatmap(con_mat_sklearn, ax=ax2, annot=True)\n",
        "sns.heatmap(con_mat_between, ax=ax3, annot = True)\n"
      ],
      "execution_count": 33,
      "outputs": [
        {
          "output_type": "execute_result",
          "data": {
            "text/plain": [
              "<matplotlib.axes._subplots.AxesSubplot at 0x7fb16a841d50>"
            ]
          },
          "metadata": {
            "tags": []
          },
          "execution_count": 33
        },
        {
          "output_type": "display_data",
          "data": {
            "image/png": "[encoded data removed]",
            "text/plain": [
              "<Figure size 1440x1440 with 6 Axes>"
            ]
          },
          "metadata": {
            "tags": [],
            "needs_background": "light"
          }
        }
      ]
    },
    {
      "cell_type": "markdown",
      "metadata": {
        "id": "f7aG2uiGU888"
      },
      "source": [
        "# Analysis\n",
        "\n",
        "Using the confusion matrix to compare the values predicted by two classifiers, we can arrive at a few conclusions.\n",
        "1. Our custom classifier predicts less true 0's than the SKLearn classifier.\n",
        "2. Our custom classifier predicts more false 0's than the SkLearn classifier.\n",
        "3. Our custom classifer predicts less true 1's than the SKLearn classifier.\n",
        "4. Our custom classifier predicts more false 1's than the SKLearn classifier.\n",
        "\n",
        "However, the SKLearn classifier does not signicantly outperform our custom classifer."
      ]
    },
    {
      "cell_type": "markdown",
      "metadata": {
        "id": "l_AGD-2PuGoo"
      },
      "source": [
        "e) Retrain your model using three features of your choice. Compare both models using an ROC curve (you can use code from [here](https://scikit-learn.org/stable/auto_examples/ensemble/plot_feature_transformation.html#sphx-glr-auto-examples-ensemble-plot-feature-transformation-py) to draw the ROC curve)."
      ]
    },
    {
      "cell_type": "code",
      "metadata": {
        "colab": {
          "base_uri": "https://localhost:8080/",
          "height": 295
        },
        "id": "5xPx7T3CU889",
        "outputId": "6056d8d4-d4d5-4681-f51b-b79eff899e5b"
      },
      "source": [
        "X_3_train, X_3_test, Y_3_train, Y_3_test = norm_init(number_of_features=3)\n",
        "weights_3 = list(LRGradDesc(X_3_train, Y_3_train, weight_init=np.ones((3,)))(X_3_test, Y_3_test, verbose=False))[-1][-1]\n",
        "Y_3_pred = predict(X_3_test, weights_3)\n",
        "\n",
        "fp_rate_3,tp_rate_3, _ = metrics.roc_curve(Y_3_test, Y_3_pred)\n",
        "fp_rate_2,tp_rate_2,  _ = metrics.roc_curve(Y_test, custom_Y_pred)\n",
        "\n",
        "fig, ax = plt.subplots()\n",
        "\n",
        "ax.plot(fp_rate_3, tp_rate_3, label=\"3\")\n",
        "ax.plot(fp_rate_2, tp_rate_2, label=\"2\")\n",
        "ax.plot(np.linspace(0, 1), np.linspace(0,1), \"k-.\")\n",
        "\n",
        "ax.set_title(\"ROC Curves for Different No. of Features\")\n",
        "ax.legend(title=\"No. Of Features\", bbox_to_anchor=(1.05, 1))\n",
        "ax.set_xlabel(\"False Positive Rate\")\n",
        "ax.set_ylabel(\"True Positive Rate\")\n",
        "ax.autoscale(True)\n",
        "ax.grid()"
      ],
      "execution_count": 34,
      "outputs": [
        {
          "output_type": "display_data",
          "data": {
            "image/png": "[encoded data removed]",
            "text/plain": [
              "<Figure size 432x288 with 1 Axes>"
            ]
          },
          "metadata": {
            "tags": [],
            "needs_background": "light"
          }
        }
      ]
    },
    {
      "cell_type": "markdown",
      "metadata": {
        "id": "VB6VxvSvU88-"
      },
      "source": [
        "# Analysis\n",
        "Using the above ROC graph, we can arrive to the following conclusion(s).\n",
        "1. Our model which uses 2 features outperforms our model which uses three features.\n"
      ]
    },
    {
      "cell_type": "markdown",
      "metadata": {
        "id": "xJO9AX-V3tSu"
      },
      "source": [
        "## **2. Multi-class classification using neural networks**"
      ]
    },
    {
      "cell_type": "markdown",
      "metadata": {
        "id": "nK3S0grLyqr2"
      },
      "source": [
        "In this question you will experiment with a neural network in the context of text classification, where a document can belong to one out of several possible categories. The main goal for you is to try different hyperparameters in a systematic manner so that you can propose a network configuration that is properly justified. You will experiment with the [Reuters newswire](https://keras.io/api/datasets/reuters/), which can be loaded directly from Keras:\n",
        "\n",
        "```python\n",
        "from keras.datasets import reuters\n",
        "(train_data, train_labels), (test_data, test_labels) = reuters.load_data(num_words=10000)\n",
        "```"
      ]
    },
    {
      "cell_type": "markdown",
      "metadata": {
        "id": "GPPRYZa9Jcv5"
      },
      "source": [
        "**Word Embeddings**\n",
        "\n",
        "\n",
        "A recent breakthrough in the field of natural language processing is called [word embeddings](https://en.wikipedia.org/wiki/Word_embedding).\n",
        "\n",
        "This is a technique where words are encoded as real-valued vectors in a high-dimensional space and where the similarity between words in terms of meaning translates to closeness in the vector space.\n",
        "\n",
        "Words are mapped to vectors of continuous numbers. This is useful when working with natural language using neural networks as we require numbers as input.\n",
        "\n",
        "Keras provides a convenient way to convert positive integer representations of words into word embeddings by means of an *Embedding layer*.\n",
        "\n",
        "The layer takes arguments that define the mapping including the maximum number of expected words, also called the vocabulary size. The layer also allows you to specify the dimensionality for each word vector, which is called the output dimension.\n",
        "\n",
        "We would like to use a word embedding representation for the Reuters dataset.\n",
        "\n",
        "Let’s say that we are only interested in the first 5,000 most frequently used words in the dataset. Therefore, our vocabulary size will be 5,000. We can choose to use a 32-dimension vector to represent each word. Finally, we may choose to cap the maximum review length at 500 words. This will truncate reviews longer than that limit, and pad reviews shorter than that limit with empty words (0 values).\n",
        "\n",
        "We load the Reuters dataset as follows:"
      ]
    },
    {
      "cell_type": "code",
      "metadata": {
        "id": "dcXTrbCou0Nv"
      },
      "source": [
        "import tensorflow as tf\n",
        "from keras.datasets import reuters\n",
        "from numpy.random import seed\n",
        "seed(42)\n",
        "tf.random.set_seed(42)\n",
        "\n",
        "(train_data, train_labels), (test_data, test_labels) = reuters.load_data(num_words=5000)\n",
        "\n",
        "# Ignore deprecation warnings.\n",
        "np.warnings.filterwarnings('ignore', category=np.VisibleDeprecationWarning)"
      ],
      "execution_count": 35,
      "outputs": []
    },
    {
      "cell_type": "markdown",
      "metadata": {
        "id": "BGs-tG_LQuHk"
      },
      "source": [
        "We would then use a Keras utility to truncate or pad the dataset to a length of 500 for each observation using the sequence.pad_sequences() function. \n",
        "\n",
        "To learn more why we need padding read [this article](https://developers.google.com/machine-learning/guides/text-classification/step-3) "
      ]
    },
    {
      "cell_type": "markdown",
      "metadata": {
        "id": "Tpj5wIQ3u5pN"
      },
      "source": [
        "```python\n",
        "X_train = sequence.pad_sequences(train_data, maxlen=500)\n",
        "X_test = sequence.pad_sequences(test_data, maxlen=500)\n",
        "```"
      ]
    },
    {
      "cell_type": "markdown",
      "metadata": {
        "id": "mMiFZYmCRmlo"
      },
      "source": [
        "Finally, later on, the first layer of our model would be an word embedding layer created using the Embedding class as follows:\n",
        "\n",
        "\n",
        "\n",
        "```python\n",
        "from keras.layers.embeddings import Embedding\n",
        "\n",
        "Embedding(5000, 32, input_length=500)\n",
        "```\n",
        "\n"
      ]
    },
    {
      "cell_type": "markdown",
      "metadata": {
        "id": "JUQvxXfmndul"
      },
      "source": [
        "a) As we load the data from the built-in keras function, it splits them into two subsets; however, it is recommended to split the data into three subsets such as:\n",
        "``` \n",
        "70% train, 15% val, 15% test.\n",
        "80% train, 10% val, 10% test.\n",
        "60% train, 20% val, 20% test.\n",
        "```\n",
        "Use the mentioned ratios to split the data and train the model using these portions. For each one of your experiments, train the model and report the loss and accuracy of model on the training and validation set. (for more information check this [link](https://scikit-learn.org/stable/modules/learning_curve.html#:~:text=2.-,Learning%20curve,error%20or%20a%20bias%20error.))  \n"
      ]
    },
    {
      "cell_type": "code",
      "metadata": {
        "colab": {
          "base_uri": "https://localhost:8080/"
        },
        "id": "Nnn9KlbGU89B",
        "outputId": "11ae818b-0d5a-4873-c05c-b5cbc0bd484a"
      },
      "source": [
        "from sklearn import model_selection\n",
        "from keras import models, Sequential, layers, preprocessing, optimizers, initializers, metrics\n",
        "from tensorflow.keras import utils as np_utils\n",
        "import pandas as pd\n",
        "from IPython.display import display\n",
        "\n",
        "def nn_init(train_size=0.7, validation_size=0.15, test_size=0.15):\n",
        "    (train_data, train_labels), (test_data, test_labels) = reuters.load_data(num_words=5000, test_split=(test_size + validation_size))\n",
        "    test_size_scaled = test_size / (validation_size + test_size)\n",
        "    \n",
        "    validation_data, test_data, validation_labels, test_labels = model_selection.train_test_split(test_data, test_labels, test_size=test_size_scaled)\n",
        "    \n",
        "    train_data = preprocessing.sequence.pad_sequences(train_data, maxlen=500)\n",
        "    validation_data = preprocessing.sequence.pad_sequences(validation_data, maxlen=500)\n",
        "    test_data = preprocessing.sequence.pad_sequences(test_data, maxlen=500)\n",
        "    \n",
        "    train_labels = np_utils.to_categorical(train_labels, 46)\n",
        "    validation_labels = np_utils.to_categorical(validation_labels, 46)\n",
        "    test_labels = np_utils.to_categorical(test_labels, 46)\n",
        "    \n",
        "    return (train_data, train_labels), (validation_data, validation_labels), (test_data, test_labels) \n",
        "\n",
        "def nn_build(input_dim=5000, output_dim=32, input_length=500, n_of_layers=4, n_of_nodes=[16, 16, 16, 16], learning_rate=0.01, n_of_categories=46, regularizer=None):\n",
        "    model = Sequential()\n",
        "    initializer = initializers.RandomNormal(seed=42)\n",
        "    model.add(layers.Embedding(input_dim=input_dim, output_dim=output_dim, input_length=input_length, embeddings_initializer=initializer, embeddings_regularizer=regularizer))\n",
        "    model.add(layers.Flatten())\n",
        "    \n",
        "    for layer_no in range(n_of_layers):\n",
        "        model.add(layers.Dense(n_of_nodes[layer_no], activation=tf.nn.relu, kernel_initializer=initializer, activity_regularizer=regularizer))\n",
        "    \n",
        "    model.add(layers.Dense(n_of_categories, activation=tf.nn.softmax, kernel_initializer=initializer, activity_regularizer=regularizer))\n",
        "    optimizer = optimizers.RMSprop(learning_rate=learning_rate)\n",
        "    model.compile(optimizer=optimizer,loss='categorical_crossentropy', metrics=[metrics.CategoricalAccuracy(), metrics.MSE])\n",
        "    return model\n",
        "\n",
        "def nn_train(train_data, train_labels, validation_data, validation_labels, regularizer = None, n_of_layers=4, n_of_nodes=[16,16,16, 16], learning_rate=0.01, n_of_epochs=4, batch_size=None):\n",
        "    model = nn_build(n_of_categories=train_labels.shape[1], n_of_layers=n_of_layers, n_of_nodes=n_of_nodes, learning_rate=learning_rate, regularizer=regularizer)\n",
        "    History = model.fit(train_data, train_labels, validation_data=(validation_data, validation_labels), epochs=n_of_epochs, batch_size=batch_size)\n",
        "    return (np.array(History.history[key]).mean() for key in [\"loss\", \"categorical_accuracy\", \"val_loss\", \"val_categorical_accuracy\"])\n",
        "    \n",
        "\n",
        "def nn_run_splits(splits = [[0.7, 0.15, 0.15], [0.8, 0.1, 0.1], [0.6, 0.2, 0.2]]):\n",
        "    for split in splits:\n",
        "        ((tnd, tnl), (vdd, vdl), (ttd, ttl)) = nn_init(*split)\n",
        "        print(f\"Current Split = {split}\")\n",
        "        loss, acc, val_loss, val_acc = nn_train(tnd, tnl, vdd, vdl)\n",
        "        print(\"Final Report\")\n",
        "        print(f\"Loss = {loss:.2f}, Accuracy = {acc:.2f}, Validation Loss = {val_loss:.2f}, Validation Accuracy = {val_acc:.2f}\")\n",
        "        \n",
        "nn_run_splits()\n",
        "    "
      ],
      "execution_count": 36,
      "outputs": [
        {
          "output_type": "stream",
          "text": [
            "Current Split = [0.7, 0.15, 0.15]\n",
            "Epoch 1/4\n",
            "246/246 [==============================] - 14s 8ms/step - loss: 2.3328 - categorical_accuracy: 0.3601 - mean_squared_error: 0.0159 - val_loss: 1.8018 - val_categorical_accuracy: 0.5386 - val_mean_squared_error: 0.0121\n",
            "Epoch 2/4\n",
            "246/246 [==============================] - 1s 6ms/step - loss: 1.6183 - categorical_accuracy: 0.5712 - mean_squared_error: 0.0112 - val_loss: 1.6923 - val_categorical_accuracy: 0.5819 - val_mean_squared_error: 0.0112\n",
            "Epoch 3/4\n",
            "246/246 [==============================] - 1s 6ms/step - loss: 1.4057 - categorical_accuracy: 0.6131 - mean_squared_error: 0.0100 - val_loss: 1.6786 - val_categorical_accuracy: 0.5873 - val_mean_squared_error: 0.0110\n",
            "Epoch 4/4\n",
            "246/246 [==============================] - 2s 6ms/step - loss: 1.2454 - categorical_accuracy: 0.6596 - mean_squared_error: 0.0088 - val_loss: 1.8518 - val_categorical_accuracy: 0.5855 - val_mean_squared_error: 0.0113\n",
            "Final Report\n",
            "Loss = 1.58, Accuracy = 0.57, Validation Loss = 1.76, Validation Accuracy = 0.57\n",
            "Current Split = [0.8, 0.1, 0.1]\n",
            "Epoch 1/4\n",
            "281/281 [==============================] - 3s 6ms/step - loss: 2.4051 - categorical_accuracy: 0.3447 - mean_squared_error: 0.0160 - val_loss: 1.8244 - val_categorical_accuracy: 0.5378 - val_mean_squared_error: 0.0127\n",
            "Epoch 2/4\n",
            "281/281 [==============================] - 2s 5ms/step - loss: 1.6351 - categorical_accuracy: 0.5740 - mean_squared_error: 0.0117 - val_loss: 1.6260 - val_categorical_accuracy: 0.5824 - val_mean_squared_error: 0.0112\n",
            "Epoch 3/4\n",
            "281/281 [==============================] - 2s 5ms/step - loss: 1.3852 - categorical_accuracy: 0.6386 - mean_squared_error: 0.0098 - val_loss: 1.6114 - val_categorical_accuracy: 0.5939 - val_mean_squared_error: 0.0110\n",
            "Epoch 4/4\n",
            "281/281 [==============================] - 2s 5ms/step - loss: 1.2125 - categorical_accuracy: 0.6713 - mean_squared_error: 0.0087 - val_loss: 1.6440 - val_categorical_accuracy: 0.6162 - val_mean_squared_error: 0.0105\n",
            "Final Report\n",
            "Loss = 1.58, Accuracy = 0.58, Validation Loss = 1.68, Validation Accuracy = 0.58\n",
            "Current Split = [0.6, 0.2, 0.2]\n",
            "Epoch 1/4\n",
            "211/211 [==============================] - 3s 8ms/step - loss: 2.5445 - categorical_accuracy: 0.3394 - mean_squared_error: 0.0167 - val_loss: 1.8492 - val_categorical_accuracy: 0.5356 - val_mean_squared_error: 0.0135\n",
            "Epoch 2/4\n",
            "211/211 [==============================] - 1s 7ms/step - loss: 1.8073 - categorical_accuracy: 0.5080 - mean_squared_error: 0.0129 - val_loss: 1.8927 - val_categorical_accuracy: 0.5196 - val_mean_squared_error: 0.0125\n",
            "Epoch 3/4\n",
            "211/211 [==============================] - 1s 7ms/step - loss: 1.5107 - categorical_accuracy: 0.6109 - mean_squared_error: 0.0107 - val_loss: 1.5850 - val_categorical_accuracy: 0.6077 - val_mean_squared_error: 0.0108\n",
            "Epoch 4/4\n",
            "211/211 [==============================] - 1s 6ms/step - loss: 1.3226 - categorical_accuracy: 0.6499 - mean_squared_error: 0.0094 - val_loss: 1.6080 - val_categorical_accuracy: 0.6028 - val_mean_squared_error: 0.0109\n",
            "Final Report\n",
            "Loss = 1.68, Accuracy = 0.55, Validation Loss = 1.73, Validation Accuracy = 0.57\n"
          ],
          "name": "stdout"
        }
      ]
    },
    {
      "cell_type": "markdown",
      "metadata": {
        "id": "Jv4j2wYNzCvs"
      },
      "source": [
        "b) Experiment with different hyperparameters and report your best accuracy found. The most important hyperparameters that you need to experiment with in this question part are: \n",
        "\n",
        "* number of layers\n",
        "* nodes per hidden layer\n",
        "* learning rate\n",
        "* number of epochs\n",
        "\n",
        "To select the best hyper-parameter, draw the loss and accuracy curve."
      ]
    },
    {
      "cell_type": "code",
      "metadata": {
        "colab": {
          "base_uri": "https://localhost:8080/",
          "height": 1000
        },
        "id": "HiAprxzoU89D",
        "outputId": "98b1946b-ac4f-44ea-8caa-a72f3403aa6d"
      },
      "source": [
        "import matplotlib.pyplot as plt\n",
        "\n",
        "((tnd, tnl), (vdd, vdl), (ttd, ttl)) = nn_init()\n",
        "\n",
        "def nn_plot(x_label, x_vals=[x+1 for x in range(4)], n_of_layers = [4] * 4, n_of_nodes = [[16]*4]*4, learning_rate=[0.1]*4, n_of_epochs=[4]*4, iterations=4, batch_size=[32 for x in range(4)], regularizers=[None]*4):\n",
        "    fig, axs = plt.subplots(2, sharex=True)\n",
        "\n",
        "    loss_acc_data = {\n",
        "        \"loss\": [],\n",
        "        \"val_loss\": [],\n",
        "        \"acc\": [],\n",
        "        \"val_acc\": []\n",
        "    }\n",
        "    \n",
        "    for i in range(iterations):\n",
        "        loss, acc, val_loss, val_acc = nn_train(\n",
        "            tnd, tnl, vdd, vdl, \n",
        "            n_of_layers=n_of_layers[i], \n",
        "            n_of_nodes=n_of_nodes[i], \n",
        "            learning_rate=learning_rate[i], \n",
        "            n_of_epochs=n_of_epochs[i],\n",
        "            batch_size=batch_size[i],\n",
        "            regularizer=regularizers[i]\n",
        "        )\n",
        "        loss_acc_data[\"loss\"].append(loss)\n",
        "        loss_acc_data[\"val_loss\"].append(val_loss)\n",
        "        loss_acc_data[\"acc\"].append(acc)\n",
        "        loss_acc_data[\"val_acc\"].append(val_acc)\n",
        "    \n",
        "    fig.text(0.5, 0.04, x_label, ha='center')\n",
        "    print(\"Loss and Accuracy\", f\"No. of Nodes = {n_of_nodes}\", f\"No. of Layers = {n_of_layers}\", f\"No. of Learning Rate = {learning_rate}\", f\"No. of Epochs = {n_of_epochs}\", sep=\"\\n\")\n",
        "    axs[0].plot(x_vals, loss_acc_data[\"loss\"], label=\"Training Set\")\n",
        "    axs[0].plot(x_vals, loss_acc_data[\"val_loss\"], label=\"Validation Set\")\n",
        "    axs[0].set_ylabel(\"Loss\")\n",
        "    axs[1].plot(x_vals, loss_acc_data[\"acc\"], label=\"Training Set\")\n",
        "    axs[1].plot(x_vals, loss_acc_data[\"val_acc\"], label=\"Validation Set\")\n",
        "    axs[1].set_ylabel(\"Accuracy\")\n",
        "    axs[0].legend(title=\"Origin\", bbox_to_anchor=(1.05, 1))\n",
        "    axs[0].grid()\n",
        "    axs[1].grid()\n",
        "\n",
        "# Find optimal Number of Layers\n",
        "nn_plot(\"No. Of Layers\", x_vals=[(x+1) for x in range(4)], n_of_layers=[(x+1) for x in range(4)], n_of_nodes = [[16]*(x+1) for x in range(4)])\n",
        "# Find optimal Number of Nodes\n",
        "nn_plot(\"No. of Nodes\", x_vals=[16 * (x+1) for x in range(4)], n_of_layers=[4 for i in range(4)],n_of_nodes=[[16 * (x+1)] * 4 for x in range(4)])\n",
        "# Find optimal Learning Rate\n",
        "nn_plot(\"Learning Rate\", x_vals=[(1/(10 ** x)) for x in range(4)], learning_rate=[(1/(10 ** x)) for x in range(4)])\n",
        "# Find optimal number of epochs\n",
        "nn_plot(\"No. of Epochs\", x_vals=[4*(x+1) for x in range(4)], n_of_epochs=[4*(x+1) for x in range(4)])\n"
      ],
      "execution_count": 37,
      "outputs": [
        {
          "output_type": "stream",
          "text": [
            "Epoch 1/4\n",
            "246/246 [==============================] - 2s 6ms/step - loss: 48.8243 - categorical_accuracy: 0.3182 - mean_squared_error: 0.0190 - val_loss: 2.4632 - val_categorical_accuracy: 0.3373 - val_mean_squared_error: 0.0179\n",
            "Epoch 2/4\n",
            "246/246 [==============================] - 1s 5ms/step - loss: 2.4170 - categorical_accuracy: 0.3524 - mean_squared_error: 0.0177 - val_loss: 2.4495 - val_categorical_accuracy: 0.3373 - val_mean_squared_error: 0.0179\n",
            "Epoch 3/4\n",
            "246/246 [==============================] - 1s 5ms/step - loss: 2.4349 - categorical_accuracy: 0.3454 - mean_squared_error: 0.0179 - val_loss: 2.4763 - val_categorical_accuracy: 0.3373 - val_mean_squared_error: 0.0179\n",
            "Epoch 4/4\n",
            "246/246 [==============================] - 1s 5ms/step - loss: 2.4260 - categorical_accuracy: 0.3539 - mean_squared_error: 0.0178 - val_loss: 2.4645 - val_categorical_accuracy: 0.3373 - val_mean_squared_error: 0.0179\n",
            "Epoch 1/4\n",
            "246/246 [==============================] - 2s 6ms/step - loss: 64.2537 - categorical_accuracy: 0.2923 - mean_squared_error: 0.0200 - val_loss: 2.4622 - val_categorical_accuracy: 0.3373 - val_mean_squared_error: 0.0179\n",
            "Epoch 2/4\n",
            "246/246 [==============================] - 1s 5ms/step - loss: 2.4023 - categorical_accuracy: 0.3526 - mean_squared_error: 0.0177 - val_loss: 2.4495 - val_categorical_accuracy: 0.3373 - val_mean_squared_error: 0.0179\n",
            "Epoch 3/4\n",
            "246/246 [==============================] - 1s 5ms/step - loss: 2.4346 - categorical_accuracy: 0.3458 - mean_squared_error: 0.0179 - val_loss: 2.4763 - val_categorical_accuracy: 0.3373 - val_mean_squared_error: 0.0179\n",
            "Epoch 4/4\n",
            "246/246 [==============================] - 1s 5ms/step - loss: 2.4263 - categorical_accuracy: 0.3542 - mean_squared_error: 0.0178 - val_loss: 2.4645 - val_categorical_accuracy: 0.3373 - val_mean_squared_error: 0.0179\n",
            "Epoch 1/4\n",
            "246/246 [==============================] - 2s 7ms/step - loss: 25.8928 - categorical_accuracy: 0.3123 - mean_squared_error: 0.0194 - val_loss: 2.4632 - val_categorical_accuracy: 0.3373 - val_mean_squared_error: 0.0179\n",
            "Epoch 2/4\n",
            "246/246 [==============================] - 1s 6ms/step - loss: 2.4029 - categorical_accuracy: 0.3524 - mean_squared_error: 0.0177 - val_loss: 2.4495 - val_categorical_accuracy: 0.3373 - val_mean_squared_error: 0.0179\n",
            "Epoch 3/4\n",
            "246/246 [==============================] - 1s 6ms/step - loss: 2.4351 - categorical_accuracy: 0.3454 - mean_squared_error: 0.0179 - val_loss: 2.4763 - val_categorical_accuracy: 0.3373 - val_mean_squared_error: 0.0179\n",
            "Epoch 4/4\n",
            "246/246 [==============================] - 1s 6ms/step - loss: 2.4262 - categorical_accuracy: 0.3538 - mean_squared_error: 0.0178 - val_loss: 2.4645 - val_categorical_accuracy: 0.3373 - val_mean_squared_error: 0.0179\n",
            "Epoch 1/4\n",
            "246/246 [==============================] - 3s 7ms/step - loss: 21.9566 - categorical_accuracy: 0.3107 - mean_squared_error: 0.0190 - val_loss: 2.4632 - val_categorical_accuracy: 0.3373 - val_mean_squared_error: 0.0179\n",
            "Epoch 2/4\n",
            "246/246 [==============================] - 2s 6ms/step - loss: 2.4029 - categorical_accuracy: 0.3524 - mean_squared_error: 0.0177 - val_loss: 2.4495 - val_categorical_accuracy: 0.3373 - val_mean_squared_error: 0.0179\n",
            "Epoch 3/4\n",
            "246/246 [==============================] - 1s 6ms/step - loss: 2.4351 - categorical_accuracy: 0.3454 - mean_squared_error: 0.0179 - val_loss: 2.4763 - val_categorical_accuracy: 0.3373 - val_mean_squared_error: 0.0179\n",
            "Epoch 4/4\n",
            "246/246 [==============================] - 1s 6ms/step - loss: 2.4262 - categorical_accuracy: 0.3538 - mean_squared_error: 0.0178 - val_loss: 2.4645 - val_categorical_accuracy: 0.3373 - val_mean_squared_error: 0.0179\n",
            "Loss and Accuracy\n",
            "No. of Nodes = [[16], [16, 16], [16, 16, 16], [16, 16, 16, 16]]\n",
            "No. of Layers = [1, 2, 3, 4]\n",
            "No. of Learning Rate = [0.1, 0.1, 0.1, 0.1]\n",
            "No. of Epochs = [4, 4, 4, 4]\n",
            "Epoch 1/4\n",
            "246/246 [==============================] - 3s 7ms/step - loss: 21.9566 - categorical_accuracy: 0.3107 - mean_squared_error: 0.0190 - val_loss: 2.4632 - val_categorical_accuracy: 0.3373 - val_mean_squared_error: 0.0179\n",
            "Epoch 2/4\n",
            "246/246 [==============================] - 1s 6ms/step - loss: 2.4029 - categorical_accuracy: 0.3524 - mean_squared_error: 0.0177 - val_loss: 2.4495 - val_categorical_accuracy: 0.3373 - val_mean_squared_error: 0.0179\n",
            "Epoch 3/4\n",
            "246/246 [==============================] - 1s 6ms/step - loss: 2.4351 - categorical_accuracy: 0.3454 - mean_squared_error: 0.0179 - val_loss: 2.4763 - val_categorical_accuracy: 0.3373 - val_mean_squared_error: 0.0179\n",
            "Epoch 4/4\n",
            "246/246 [==============================] - 2s 6ms/step - loss: 2.4262 - categorical_accuracy: 0.3538 - mean_squared_error: 0.0178 - val_loss: 2.4645 - val_categorical_accuracy: 0.3373 - val_mean_squared_error: 0.0179\n",
            "Epoch 1/4\n",
            "246/246 [==============================] - 3s 7ms/step - loss: 29.6461 - categorical_accuracy: 0.3257 - mean_squared_error: 0.0185 - val_loss: 2.4607 - val_categorical_accuracy: 0.3373 - val_mean_squared_error: 0.0179\n",
            "Epoch 2/4\n",
            "246/246 [==============================] - 1s 6ms/step - loss: 2.4023 - categorical_accuracy: 0.3524 - mean_squared_error: 0.0177 - val_loss: 2.4494 - val_categorical_accuracy: 0.3373 - val_mean_squared_error: 0.0179\n",
            "Epoch 3/4\n",
            "246/246 [==============================] - 1s 6ms/step - loss: 2.4351 - categorical_accuracy: 0.3454 - mean_squared_error: 0.0179 - val_loss: 2.4763 - val_categorical_accuracy: 0.3373 - val_mean_squared_error: 0.0179\n",
            "Epoch 4/4\n",
            "246/246 [==============================] - 1s 6ms/step - loss: 2.4262 - categorical_accuracy: 0.3538 - mean_squared_error: 0.0178 - val_loss: 2.4645 - val_categorical_accuracy: 0.3373 - val_mean_squared_error: 0.0179\n",
            "Epoch 1/4\n",
            "246/246 [==============================] - 3s 7ms/step - loss: 825.7090 - categorical_accuracy: 0.3138 - mean_squared_error: 0.0192 - val_loss: 2.4613 - val_categorical_accuracy: 0.3373 - val_mean_squared_error: 0.0179\n",
            "Epoch 2/4\n",
            "246/246 [==============================] - 1s 6ms/step - loss: 2.4025 - categorical_accuracy: 0.3524 - mean_squared_error: 0.0177 - val_loss: 2.4494 - val_categorical_accuracy: 0.3373 - val_mean_squared_error: 0.0179\n",
            "Epoch 3/4\n",
            "246/246 [==============================] - 2s 7ms/step - loss: 2.4351 - categorical_accuracy: 0.3454 - mean_squared_error: 0.0179 - val_loss: 2.4763 - val_categorical_accuracy: 0.3373 - val_mean_squared_error: 0.0179\n",
            "Epoch 4/4\n",
            "246/246 [==============================] - 1s 6ms/step - loss: 2.4262 - categorical_accuracy: 0.3538 - mean_squared_error: 0.0178 - val_loss: 2.4645 - val_categorical_accuracy: 0.3373 - val_mean_squared_error: 0.0179\n",
            "Epoch 1/4\n",
            "246/246 [==============================] - 3s 7ms/step - loss: 2614.5342 - categorical_accuracy: 0.2984 - mean_squared_error: 0.0205 - val_loss: 2.4635 - val_categorical_accuracy: 0.3373 - val_mean_squared_error: 0.0179\n",
            "Epoch 2/4\n",
            "246/246 [==============================] - 1s 6ms/step - loss: 2.4029 - categorical_accuracy: 0.3524 - mean_squared_error: 0.0177 - val_loss: 2.4495 - val_categorical_accuracy: 0.3373 - val_mean_squared_error: 0.0179\n",
            "Epoch 3/4\n",
            "246/246 [==============================] - 1s 6ms/step - loss: 2.4351 - categorical_accuracy: 0.3454 - mean_squared_error: 0.0179 - val_loss: 2.4764 - val_categorical_accuracy: 0.3373 - val_mean_squared_error: 0.0179\n",
            "Epoch 4/4\n",
            "246/246 [==============================] - 1s 6ms/step - loss: 2.4262 - categorical_accuracy: 0.3538 - mean_squared_error: 0.0178 - val_loss: 2.4645 - val_categorical_accuracy: 0.3373 - val_mean_squared_error: 0.0179\n",
            "Loss and Accuracy\n",
            "No. of Nodes = [[16, 16, 16, 16], [32, 32, 32, 32], [48, 48, 48, 48], [64, 64, 64, 64]]\n",
            "No. of Layers = [4, 4, 4, 4]\n",
            "No. of Learning Rate = [0.1, 0.1, 0.1, 0.1]\n",
            "No. of Epochs = [4, 4, 4, 4]\n",
            "Epoch 1/4\n",
            "246/246 [==============================] - 3s 7ms/step - loss: 4011755.2202 - categorical_accuracy: 0.2876 - mean_squared_error: 0.0200 - val_loss: 2.8361 - val_categorical_accuracy: 0.3373 - val_mean_squared_error: 0.0191\n",
            "Epoch 2/4\n",
            "246/246 [==============================] - 1s 6ms/step - loss: 2.6315 - categorical_accuracy: 0.3113 - mean_squared_error: 0.0188 - val_loss: 2.9202 - val_categorical_accuracy: 0.3373 - val_mean_squared_error: 0.0212\n",
            "Epoch 3/4\n",
            "246/246 [==============================] - 1s 6ms/step - loss: 2.6828 - categorical_accuracy: 0.3054 - mean_squared_error: 0.0189 - val_loss: 2.6906 - val_categorical_accuracy: 0.3373 - val_mean_squared_error: 0.0183\n",
            "Epoch 4/4\n",
            "246/246 [==============================] - 1s 6ms/step - loss: 2.6749 - categorical_accuracy: 0.3038 - mean_squared_error: 0.0189 - val_loss: 2.7368 - val_categorical_accuracy: 0.2257 - val_mean_squared_error: 0.0185\n",
            "Epoch 1/4\n",
            "246/246 [==============================] - 3s 8ms/step - loss: 21.9566 - categorical_accuracy: 0.3107 - mean_squared_error: 0.0190 - val_loss: 2.4632 - val_categorical_accuracy: 0.3373 - val_mean_squared_error: 0.0179\n",
            "Epoch 2/4\n",
            "246/246 [==============================] - 1s 6ms/step - loss: 2.4029 - categorical_accuracy: 0.3524 - mean_squared_error: 0.0177 - val_loss: 2.4495 - val_categorical_accuracy: 0.3373 - val_mean_squared_error: 0.0179\n",
            "Epoch 3/4\n",
            "246/246 [==============================] - 1s 6ms/step - loss: 2.4351 - categorical_accuracy: 0.3454 - mean_squared_error: 0.0179 - val_loss: 2.4763 - val_categorical_accuracy: 0.3373 - val_mean_squared_error: 0.0179\n",
            "Epoch 4/4\n",
            "246/246 [==============================] - 1s 6ms/step - loss: 2.4262 - categorical_accuracy: 0.3538 - mean_squared_error: 0.0178 - val_loss: 2.4645 - val_categorical_accuracy: 0.3373 - val_mean_squared_error: 0.0179\n",
            "Epoch 1/4\n",
            "246/246 [==============================] - 3s 7ms/step - loss: 2.3333 - categorical_accuracy: 0.3605 - mean_squared_error: 0.0159 - val_loss: 1.7596 - val_categorical_accuracy: 0.5433 - val_mean_squared_error: 0.0118\n",
            "Epoch 2/4\n",
            "246/246 [==============================] - 1s 6ms/step - loss: 1.6162 - categorical_accuracy: 0.5760 - mean_squared_error: 0.0111 - val_loss: 1.6942 - val_categorical_accuracy: 0.5903 - val_mean_squared_error: 0.0111\n",
            "Epoch 3/4\n",
            "246/246 [==============================] - 1s 6ms/step - loss: 1.4025 - categorical_accuracy: 0.6258 - mean_squared_error: 0.0098 - val_loss: 1.6549 - val_categorical_accuracy: 0.6033 - val_mean_squared_error: 0.0108\n",
            "Epoch 4/4\n",
            "246/246 [==============================] - 1s 6ms/step - loss: 1.2298 - categorical_accuracy: 0.6626 - mean_squared_error: 0.0087 - val_loss: 1.7509 - val_categorical_accuracy: 0.5837 - val_mean_squared_error: 0.0115\n",
            "Epoch 1/4\n",
            "246/246 [==============================] - 3s 7ms/step - loss: 2.6947 - categorical_accuracy: 0.2806 - mean_squared_error: 0.0181 - val_loss: 2.0647 - val_categorical_accuracy: 0.3379 - val_mean_squared_error: 0.0150\n",
            "Epoch 2/4\n",
            "246/246 [==============================] - 1s 6ms/step - loss: 1.9767 - categorical_accuracy: 0.3547 - mean_squared_error: 0.0146 - val_loss: 1.9985 - val_categorical_accuracy: 0.3432 - val_mean_squared_error: 0.0149\n",
            "Epoch 3/4\n",
            "246/246 [==============================] - 1s 6ms/step - loss: 1.9035 - categorical_accuracy: 0.3648 - mean_squared_error: 0.0140 - val_loss: 1.9171 - val_categorical_accuracy: 0.4810 - val_mean_squared_error: 0.0136\n",
            "Epoch 4/4\n",
            "246/246 [==============================] - 1s 6ms/step - loss: 1.8118 - categorical_accuracy: 0.4480 - mean_squared_error: 0.0131 - val_loss: 1.8574 - val_categorical_accuracy: 0.4958 - val_mean_squared_error: 0.0128\n",
            "Loss and Accuracy\n",
            "No. of Nodes = [[16, 16, 16, 16], [16, 16, 16, 16], [16, 16, 16, 16], [16, 16, 16, 16]]\n",
            "No. of Layers = [4, 4, 4, 4]\n",
            "No. of Learning Rate = [1.0, 0.1, 0.01, 0.001]\n",
            "No. of Epochs = [4, 4, 4, 4]\n",
            "Epoch 1/4\n",
            "246/246 [==============================] - 3s 7ms/step - loss: 21.9566 - categorical_accuracy: 0.3107 - mean_squared_error: 0.0190 - val_loss: 2.4632 - val_categorical_accuracy: 0.3373 - val_mean_squared_error: 0.0179\n",
            "Epoch 2/4\n",
            "246/246 [==============================] - 1s 6ms/step - loss: 2.4029 - categorical_accuracy: 0.3524 - mean_squared_error: 0.0177 - val_loss: 2.4495 - val_categorical_accuracy: 0.3373 - val_mean_squared_error: 0.0179\n",
            "Epoch 3/4\n",
            "246/246 [==============================] - 1s 6ms/step - loss: 2.4351 - categorical_accuracy: 0.3454 - mean_squared_error: 0.0179 - val_loss: 2.4763 - val_categorical_accuracy: 0.3373 - val_mean_squared_error: 0.0179\n",
            "Epoch 4/4\n",
            "246/246 [==============================] - 2s 7ms/step - loss: 2.4262 - categorical_accuracy: 0.3538 - mean_squared_error: 0.0178 - val_loss: 2.4645 - val_categorical_accuracy: 0.3373 - val_mean_squared_error: 0.0179\n",
            "Epoch 1/8\n",
            "246/246 [==============================] - 3s 7ms/step - loss: 21.9566 - categorical_accuracy: 0.3107 - mean_squared_error: 0.0190 - val_loss: 2.4632 - val_categorical_accuracy: 0.3373 - val_mean_squared_error: 0.0179\n",
            "Epoch 2/8\n",
            "246/246 [==============================] - 1s 6ms/step - loss: 2.4029 - categorical_accuracy: 0.3524 - mean_squared_error: 0.0177 - val_loss: 2.4495 - val_categorical_accuracy: 0.3373 - val_mean_squared_error: 0.0179\n",
            "Epoch 3/8\n",
            "246/246 [==============================] - 1s 6ms/step - loss: 2.4351 - categorical_accuracy: 0.3454 - mean_squared_error: 0.0179 - val_loss: 2.4763 - val_categorical_accuracy: 0.3373 - val_mean_squared_error: 0.0179\n",
            "Epoch 4/8\n",
            "246/246 [==============================] - 1s 6ms/step - loss: 2.4262 - categorical_accuracy: 0.3538 - mean_squared_error: 0.0178 - val_loss: 2.4645 - val_categorical_accuracy: 0.3373 - val_mean_squared_error: 0.0179\n",
            "Epoch 5/8\n",
            "246/246 [==============================] - 1s 6ms/step - loss: 2.4124 - categorical_accuracy: 0.3542 - mean_squared_error: 0.0178 - val_loss: 2.4655 - val_categorical_accuracy: 0.3373 - val_mean_squared_error: 0.0180\n",
            "Epoch 6/8\n",
            "246/246 [==============================] - 1s 6ms/step - loss: 2.3877 - categorical_accuracy: 0.3626 - mean_squared_error: 0.0177 - val_loss: 2.4588 - val_categorical_accuracy: 0.3373 - val_mean_squared_error: 0.0180\n",
            "Epoch 7/8\n",
            "246/246 [==============================] - 1s 6ms/step - loss: 2.4481 - categorical_accuracy: 0.3460 - mean_squared_error: 0.0179 - val_loss: 2.4583 - val_categorical_accuracy: 0.3373 - val_mean_squared_error: 0.0179\n",
            "Epoch 8/8\n",
            "246/246 [==============================] - 1s 6ms/step - loss: 2.4364 - categorical_accuracy: 0.3567 - mean_squared_error: 0.0178 - val_loss: 2.4627 - val_categorical_accuracy: 0.3373 - val_mean_squared_error: 0.0179\n",
            "Epoch 1/12\n",
            "246/246 [==============================] - 3s 7ms/step - loss: 21.9566 - categorical_accuracy: 0.3107 - mean_squared_error: 0.0190 - val_loss: 2.4632 - val_categorical_accuracy: 0.3373 - val_mean_squared_error: 0.0179\n",
            "Epoch 2/12\n",
            "246/246 [==============================] - 1s 6ms/step - loss: 2.4029 - categorical_accuracy: 0.3524 - mean_squared_error: 0.0177 - val_loss: 2.4495 - val_categorical_accuracy: 0.3373 - val_mean_squared_error: 0.0179\n",
            "Epoch 3/12\n",
            "246/246 [==============================] - 1s 6ms/step - loss: 2.4351 - categorical_accuracy: 0.3454 - mean_squared_error: 0.0179 - val_loss: 2.4763 - val_categorical_accuracy: 0.3373 - val_mean_squared_error: 0.0179\n",
            "Epoch 4/12\n",
            "246/246 [==============================] - 1s 6ms/step - loss: 2.4262 - categorical_accuracy: 0.3538 - mean_squared_error: 0.0178 - val_loss: 2.4645 - val_categorical_accuracy: 0.3373 - val_mean_squared_error: 0.0179\n",
            "Epoch 5/12\n",
            "246/246 [==============================] - 1s 6ms/step - loss: 2.4124 - categorical_accuracy: 0.3542 - mean_squared_error: 0.0178 - val_loss: 2.4655 - val_categorical_accuracy: 0.3373 - val_mean_squared_error: 0.0180\n",
            "Epoch 6/12\n",
            "246/246 [==============================] - 1s 6ms/step - loss: 2.3877 - categorical_accuracy: 0.3626 - mean_squared_error: 0.0177 - val_loss: 2.4588 - val_categorical_accuracy: 0.3373 - val_mean_squared_error: 0.0180\n",
            "Epoch 7/12\n",
            "246/246 [==============================] - 1s 6ms/step - loss: 2.4481 - categorical_accuracy: 0.3460 - mean_squared_error: 0.0179 - val_loss: 2.4583 - val_categorical_accuracy: 0.3373 - val_mean_squared_error: 0.0179\n",
            "Epoch 8/12\n",
            "246/246 [==============================] - 1s 6ms/step - loss: 2.4364 - categorical_accuracy: 0.3567 - mean_squared_error: 0.0178 - val_loss: 2.4627 - val_categorical_accuracy: 0.3373 - val_mean_squared_error: 0.0179\n",
            "Epoch 9/12\n",
            "246/246 [==============================] - 1s 6ms/step - loss: 2.4182 - categorical_accuracy: 0.3600 - mean_squared_error: 0.0177 - val_loss: 2.4637 - val_categorical_accuracy: 0.3373 - val_mean_squared_error: 0.0179\n",
            "Epoch 10/12\n",
            "246/246 [==============================] - 1s 6ms/step - loss: 2.4330 - categorical_accuracy: 0.3501 - mean_squared_error: 0.0179 - val_loss: 2.4661 - val_categorical_accuracy: 0.3373 - val_mean_squared_error: 0.0180\n",
            "Epoch 11/12\n",
            "246/246 [==============================] - 2s 6ms/step - loss: 2.4429 - categorical_accuracy: 0.3479 - mean_squared_error: 0.0179 - val_loss: 2.4781 - val_categorical_accuracy: 0.3373 - val_mean_squared_error: 0.0182\n",
            "Epoch 12/12\n",
            "246/246 [==============================] - 1s 6ms/step - loss: 2.4379 - categorical_accuracy: 0.3526 - mean_squared_error: 0.0178 - val_loss: 2.4621 - val_categorical_accuracy: 0.3373 - val_mean_squared_error: 0.0180\n",
            "Epoch 1/16\n",
            "246/246 [==============================] - 3s 7ms/step - loss: 21.9566 - categorical_accuracy: 0.3107 - mean_squared_error: 0.0190 - val_loss: 2.4632 - val_categorical_accuracy: 0.3373 - val_mean_squared_error: 0.0179\n",
            "Epoch 2/16\n",
            "246/246 [==============================] - 2s 6ms/step - loss: 2.4029 - categorical_accuracy: 0.3524 - mean_squared_error: 0.0177 - val_loss: 2.4495 - val_categorical_accuracy: 0.3373 - val_mean_squared_error: 0.0179\n",
            "Epoch 3/16\n",
            "246/246 [==============================] - 1s 6ms/step - loss: 2.4351 - categorical_accuracy: 0.3454 - mean_squared_error: 0.0179 - val_loss: 2.4763 - val_categorical_accuracy: 0.3373 - val_mean_squared_error: 0.0179\n",
            "Epoch 4/16\n",
            "246/246 [==============================] - 2s 6ms/step - loss: 2.4262 - categorical_accuracy: 0.3538 - mean_squared_error: 0.0178 - val_loss: 2.4645 - val_categorical_accuracy: 0.3373 - val_mean_squared_error: 0.0179\n",
            "Epoch 5/16\n",
            "246/246 [==============================] - 1s 6ms/step - loss: 2.4124 - categorical_accuracy: 0.3542 - mean_squared_error: 0.0178 - val_loss: 2.4655 - val_categorical_accuracy: 0.3373 - val_mean_squared_error: 0.0180\n",
            "Epoch 6/16\n",
            "246/246 [==============================] - 1s 6ms/step - loss: 2.3877 - categorical_accuracy: 0.3626 - mean_squared_error: 0.0177 - val_loss: 2.4588 - val_categorical_accuracy: 0.3373 - val_mean_squared_error: 0.0180\n",
            "Epoch 7/16\n",
            "246/246 [==============================] - 1s 6ms/step - loss: 2.4481 - categorical_accuracy: 0.3460 - mean_squared_error: 0.0179 - val_loss: 2.4583 - val_categorical_accuracy: 0.3373 - val_mean_squared_error: 0.0179\n",
            "Epoch 8/16\n",
            "246/246 [==============================] - 1s 6ms/step - loss: 2.4364 - categorical_accuracy: 0.3567 - mean_squared_error: 0.0178 - val_loss: 2.4627 - val_categorical_accuracy: 0.3373 - val_mean_squared_error: 0.0179\n",
            "Epoch 9/16\n",
            "246/246 [==============================] - 1s 6ms/step - loss: 2.4182 - categorical_accuracy: 0.3600 - mean_squared_error: 0.0177 - val_loss: 2.4637 - val_categorical_accuracy: 0.3373 - val_mean_squared_error: 0.0179\n",
            "Epoch 10/16\n",
            "246/246 [==============================] - 1s 6ms/step - loss: 2.4330 - categorical_accuracy: 0.3501 - mean_squared_error: 0.0179 - val_loss: 2.4661 - val_categorical_accuracy: 0.3373 - val_mean_squared_error: 0.0180\n",
            "Epoch 11/16\n",
            "246/246 [==============================] - 1s 6ms/step - loss: 2.4429 - categorical_accuracy: 0.3479 - mean_squared_error: 0.0179 - val_loss: 2.4781 - val_categorical_accuracy: 0.3373 - val_mean_squared_error: 0.0182\n",
            "Epoch 12/16\n",
            "246/246 [==============================] - 1s 6ms/step - loss: 2.4379 - categorical_accuracy: 0.3526 - mean_squared_error: 0.0178 - val_loss: 2.4621 - val_categorical_accuracy: 0.3373 - val_mean_squared_error: 0.0180\n",
            "Epoch 13/16\n",
            "246/246 [==============================] - 1s 6ms/step - loss: 2.4291 - categorical_accuracy: 0.3517 - mean_squared_error: 0.0178 - val_loss: 2.4592 - val_categorical_accuracy: 0.3373 - val_mean_squared_error: 0.0179\n",
            "Epoch 14/16\n",
            "246/246 [==============================] - 1s 6ms/step - loss: 2.4489 - categorical_accuracy: 0.3453 - mean_squared_error: 0.0179 - val_loss: 2.4745 - val_categorical_accuracy: 0.3373 - val_mean_squared_error: 0.0179\n",
            "Epoch 15/16\n",
            "246/246 [==============================] - 1s 6ms/step - loss: 2.4426 - categorical_accuracy: 0.3532 - mean_squared_error: 0.0178 - val_loss: 2.4622 - val_categorical_accuracy: 0.3373 - val_mean_squared_error: 0.0179\n",
            "Epoch 16/16\n",
            "246/246 [==============================] - 1s 6ms/step - loss: 2.4449 - categorical_accuracy: 0.3493 - mean_squared_error: 0.0179 - val_loss: 2.4773 - val_categorical_accuracy: 0.3373 - val_mean_squared_error: 0.0180\n",
            "Loss and Accuracy\n",
            "No. of Nodes = [[16, 16, 16, 16], [16, 16, 16, 16], [16, 16, 16, 16], [16, 16, 16, 16]]\n",
            "No. of Layers = [4, 4, 4, 4]\n",
            "No. of Learning Rate = [0.1, 0.1, 0.1, 0.1]\n",
            "No. of Epochs = [4, 8, 12, 16]\n"
          ],
          "name": "stdout"
        },
        {
          "output_type": "display_data",
          "data": {
            "image/png": "[encoded data removed]",
            "text/plain": [
              "<Figure size 432x288 with 2 Axes>"
            ]
          },
          "metadata": {
            "tags": [],
            "needs_background": "light"
          }
        },
        {
          "output_type": "display_data",
          "data": {
            "image/png": "[encoded data removed]",
            "text/plain": [
              "<Figure size 432x288 with 2 Axes>"
            ]
          },
          "metadata": {
            "tags": [],
            "needs_background": "light"
          }
        },
        {
          "output_type": "display_data",
          "data": {
            "image/png": "[encoded data removed]",
            "text/plain": [
              "<Figure size 432x288 with 2 Axes>"
            ]
          },
          "metadata": {
            "tags": [],
            "needs_background": "light"
          }
        },
        {
          "output_type": "display_data",
          "data": {
            "image/png": "[encoded data removed]",
            "text/plain": [
              "<Figure size 432x288 with 2 Axes>"
            ]
          },
          "metadata": {
            "tags": [],
            "needs_background": "light"
          }
        }
      ]
    },
    {
      "cell_type": "markdown",
      "metadata": {
        "id": "9HsAt1LpZxeo"
      },
      "source": [
        "# Analysis\n",
        "Using the above charts, we can arrive to a few conclusions as to what the optimal hyperparameters are:\n",
        "1. More layers produce a lower cost and a higher accuracy. We should have more than 4 layers to derive our optimal solution. \n",
        "2. When we have more ~ 32 nodes, we increase our accuracy and decrease our loss. Having ~ 32 node per layer seems to be optimal.\n",
        "3. A learning rate of ~ 0.02 seems to derive our optimal model.\n",
        "4. Our accuracy increases and our loss decreases as the number of epochs increase to 16. We should train our model with slightly more than 16 epochs to derive our optimal solution. "
      ]
    },
    {
      "cell_type": "markdown",
      "metadata": {
        "id": "gVg95K2SzPj7"
      },
      "source": [
        "c) Describe how your convergence changes when you vary the size of your mini-batch. A plot showing cost in terms of number of epochs would be enough. Discuss the reasons for this.\n"
      ]
    },
    {
      "cell_type": "code",
      "metadata": {
        "colab": {
          "base_uri": "https://localhost:8080/",
          "height": 235
        },
        "id": "LIGPuiF0be_e",
        "outputId": "d42774d3-d167-4fdc-8fad-9dee5a57be3c"
      },
      "source": [
        "nn_plot(\"Batch Size\", \n",
        "                  x_vals=[8*(x+1) for x in range(4)],\n",
        "                  batch_size=[8 * (x+1) for x in range(4)],\n",
        "                  learning_rate=[0.02]*4, \n",
        "                  n_of_epochs=[16]*4, \n",
        "                  n_of_layers=[8]*4, \n",
        "                  n_of_nodes=[[32]*8] * 4, \n",
        "                  iterations=4)"
      ],
      "execution_count": 38,
      "outputs": [
        {
          "output_type": "error",
          "ename": "NameError",
          "evalue": "ignored",
          "traceback": [
            "\u001b[0;31m---------------------------------------------------------------------------\u001b[0m",
            "\u001b[0;31mNameError\u001b[0m                                 Traceback (most recent call last)",
            "\u001b[0;32m<ipython-input-38-e1b1037c55dc>\u001b[0m in \u001b[0;36m<module>\u001b[0;34m()\u001b[0m\n\u001b[0;32m----> 1\u001b[0;31m nn_1_plot(\"Batch Size\", \n\u001b[0m\u001b[1;32m      2\u001b[0m                   \u001b[0mx_vals\u001b[0m\u001b[0;34m=\u001b[0m\u001b[0;34m[\u001b[0m\u001b[0;36m8\u001b[0m\u001b[0;34m*\u001b[0m\u001b[0;34m(\u001b[0m\u001b[0mx\u001b[0m\u001b[0;34m+\u001b[0m\u001b[0;36m1\u001b[0m\u001b[0;34m)\u001b[0m \u001b[0;32mfor\u001b[0m \u001b[0mx\u001b[0m \u001b[0;32min\u001b[0m \u001b[0mrange\u001b[0m\u001b[0;34m(\u001b[0m\u001b[0;36m4\u001b[0m\u001b[0;34m)\u001b[0m\u001b[0;34m]\u001b[0m\u001b[0;34m,\u001b[0m\u001b[0;34m\u001b[0m\u001b[0;34m\u001b[0m\u001b[0m\n\u001b[1;32m      3\u001b[0m                   \u001b[0mbatch_size\u001b[0m\u001b[0;34m=\u001b[0m\u001b[0;34m[\u001b[0m\u001b[0;36m8\u001b[0m \u001b[0;34m*\u001b[0m \u001b[0;34m(\u001b[0m\u001b[0mx\u001b[0m\u001b[0;34m+\u001b[0m\u001b[0;36m1\u001b[0m\u001b[0;34m)\u001b[0m \u001b[0;32mfor\u001b[0m \u001b[0mx\u001b[0m \u001b[0;32min\u001b[0m \u001b[0mrange\u001b[0m\u001b[0;34m(\u001b[0m\u001b[0;36m4\u001b[0m\u001b[0;34m)\u001b[0m\u001b[0;34m]\u001b[0m\u001b[0;34m,\u001b[0m\u001b[0;34m\u001b[0m\u001b[0;34m\u001b[0m\u001b[0m\n\u001b[1;32m      4\u001b[0m                   \u001b[0mlearning_rate\u001b[0m\u001b[0;34m=\u001b[0m\u001b[0;34m[\u001b[0m\u001b[0;36m0.02\u001b[0m\u001b[0;34m]\u001b[0m\u001b[0;34m*\u001b[0m\u001b[0;36m4\u001b[0m\u001b[0;34m,\u001b[0m\u001b[0;34m\u001b[0m\u001b[0;34m\u001b[0m\u001b[0m\n\u001b[1;32m      5\u001b[0m                   \u001b[0mn_of_epochs\u001b[0m\u001b[0;34m=\u001b[0m\u001b[0;34m[\u001b[0m\u001b[0;36m16\u001b[0m\u001b[0;34m]\u001b[0m\u001b[0;34m*\u001b[0m\u001b[0;36m4\u001b[0m\u001b[0;34m,\u001b[0m\u001b[0;34m\u001b[0m\u001b[0;34m\u001b[0m\u001b[0m\n",
            "\u001b[0;31mNameError\u001b[0m: name 'nn_1_plot' is not defined"
          ]
        }
      ]
    },
    {
      "cell_type": "markdown",
      "metadata": {
        "id": "QWrShx7MlLRb"
      },
      "source": [
        "# Analysis\n",
        "\n",
        "Using the above figure, we can begin to reason how the convergence will change depending on the batch size.\n",
        "\n",
        "1. A low batch size will take longer to converge since less weights are being updated every iteration of BGD. \n",
        "2. A higher batch size will take a smaller amount of time to converge since more weights are being updated every iteration of BGD."
      ]
    },
    {
      "cell_type": "markdown",
      "metadata": {
        "id": "xBEe1gRqzTB8"
      },
      "source": [
        "d) Experiment with different regularization options (e.g. L2 and dropout).You may need to make your network larger in case you don’t find much benefits from applying regularization.\n",
        "\n",
        "Note: we recommend you to control your initialization parameters by means of a seed https://keras.io/api/layers/initializers/ ."
      ]
    },
    {
      "cell_type": "code",
      "metadata": {
        "id": "v3OEqY_omPuj"
      },
      "source": [
        "regularizers = [tf.keras.regularizers.l1(1e-5), tf.keras.regularizers.l2(1e-7), tf.keras.regularizers.l1_l2(42e-7, 42e-7), lambda x: 42e-10 * tf.reduce_sum(tf.pow(x, 3))]\n",
        "nn_plot(\"Batch Size\", \n",
        "                  x_vals=[\"l1\", \"l2\", \"l1_l2\", \"custom\"],\n",
        "                  batch_size=[32]*4,\n",
        "                  learning_rate=[0.02]*4, \n",
        "                  n_of_epochs=[16]*4, \n",
        "                  n_of_layers=[8]*4, \n",
        "                  n_of_nodes=[[32]*8] * 4, \n",
        "                  regularizers=regularizers,\n",
        "                  iterations=4)"
      ],
      "execution_count": null,
      "outputs": []
    },
    {
      "cell_type": "markdown",
      "metadata": {
        "id": "vwt9sHOqvY6a"
      },
      "source": [
        "# Analysis\n",
        "Using the above diagram, its evident that the L2 regularizers increases the overall accuracy of the model and outperforms the other regularizers used."
      ]
    },
    {
      "cell_type": "markdown",
      "metadata": {
        "id": "RVvw7Yf43s48"
      },
      "source": [
        "## **3. Computational graph (no code involved)**"
      ]
    },
    {
      "cell_type": "markdown",
      "metadata": {
        "id": "KF4l37UlzxsV"
      },
      "source": [
        "This question aims at checking your understanding on defining arbitrary network architectures and compute any derivative involved for optimization.\n",
        "\n",
        "Consider a neural network with N input units, N output units, and K hidden units. The activations are computed as follows:\n",
        "\n",
        "$$\n",
        "\\begin{array}{l}\n",
        "\\mathbf{z}=\\mathbf{W}^{(1)} \\mathbf{x}+\\mathbf{b}^{(1)} \\\\\n",
        "\\mathbf{h}=\\sigma(\\mathbf{z}) \\\\\n",
        "\\mathbf{y}=\\mathbf{x}+\\mathbf{W}^{(2)} \\mathbf{h}+\\mathbf{b}^{(2)}\n",
        "\\end{array}\n",
        "$$\n",
        "\n",
        "where $\\sigma$ denotes the logistic function, applied elementwise. The cost involves a squared difference with the target $\\mathbf{s}$ (with a 0.5 factor) and a regularization term that accounts for the dot product with respect to an external vector $\\mathbf{r}$. More concretely:\n",
        "$$\n",
        "\\begin{array}{l}\n",
        "\\mathcal{E}=\\mathcal{R}+\\mathcal{S} \\\\\n",
        "\\mathcal{R}=\\mathbf{\\lambda} \\mathbf{|W|} \\\\\n",
        "\\mathcal{S}=\\frac{1}{2}\\|\\mathbf{y}-\\mathbf{s}\\|^{2}\n",
        "\\end{array}\n",
        "$$\n"
      ]
    },
    {
      "cell_type": "markdown",
      "metadata": {
        "id": "LlOAWpz80zD2"
      },
      "source": [
        "a) Draw the computation graph relating $\\mathbf{x}$, $\\mathbf{z}$, $\\mathbf{h}$, $\\mathbf{y}$, $\\mathcal{R}$, $\\mathcal{S}$, and $\\mathcal{E}$."
      ]
    },
    {
      "cell_type": "markdown",
      "metadata": {
        "id": "0W2LkBDf0YvF"
      },
      "source": [
        "![Computatation Graph](https://docs.google.com/uc?export=download&id=1qiVhH3DVl-pfZSw6DW0w_2s4B8dIeL1x)"
      ]
    },
    {
      "cell_type": "markdown",
      "metadata": {
        "id": "mZo3yPXM1UC8"
      },
      "source": [
        "b) Derive the backpropagation equations for computing $\\partial \\mathcal{E} / \\partial W^{(1)}$. To make things simpler, you may use $\\sigma'$ to denote the derivative of the ReLU function."
      ]
    },
    {
      "cell_type": "markdown",
      "metadata": {
        "id": "557XIQwiExjh"
      },
      "source": [
        "![Backpropagation Equation](https://docs.google.com/uc?export=download&id=1zwFUoBc5VOBl_ROczSPlGbY-RoKiXywM)"
      ]
    },
    {
      "cell_type": "markdown",
      "metadata": {
        "id": "cWA8_j433sa_"
      },
      "source": [
        "## **4. Tuning generalization**"
      ]
    },
    {
      "cell_type": "markdown",
      "metadata": {
        "id": "Vo5tRNii1sCi"
      },
      "source": [
        "In this question you will construct a neural network to classify a large set of low resolution images. Differently from Q2, in this case we suggest you a neural network to start experimenting with, but we would like you to describe the behavior of the network as you modify certain parameters. You will be reproducing some concepts mentioned during the lectures, such as when we show how generalization changes as the number of parameters are changed."
      ]
    },
    {
      "cell_type": "markdown",
      "metadata": {
        "id": "79pJhrFq2Y8f"
      },
      "source": [
        "a) Use the CIFAR-10 dataset (available from Keras)\n",
        "\n",
        "```python\n",
        "from keras.datasets import cifar10\n",
        "(x_train_original, y_train_original), (x_test_original, y_test_original) =\n",
        "cifar100.load_data(label_mode='fine')\n",
        "```\n",
        "to train a neural network with two hidden layers using the logistic activation function and RELU, with 500 and 200 hidden nodes, respectively. The output layer should be defined according to the nature of the targets. Similar to the second question, split the data into train, validation and test sets.\n"
      ]
    },
    {
      "cell_type": "markdown",
      "metadata": {
        "id": "eu4_k65XU900"
      },
      "source": [
        "CIFAR10 contains colour images that are 32x32 pixels. At first glance it may seem like there are only 32×32=1024 features per image, but there are red, blue and green channels in the image, which means each image is actually 3×32×32=3072 features.\n",
        "\n",
        "Usually, these channels are arranged as three separate 32x32 pixel images, rather than a single 32x32 image with RGB pixels.\n",
        "\n",
        "In order to input these into an MLP, we need to flatten the channels and pixel arrays to form an array of shape (num_samples, 3072), just like with MNIST. We can do this in python like so:\n",
        "```\n",
        "x_train = x_train.reshape(-1, 3072)\n",
        "x_test = x_test.reshape(-1, 3072)\n",
        "```"
      ]
    },
    {
      "cell_type": "markdown",
      "metadata": {
        "id": "L4MgGBtp2rsj"
      },
      "source": [
        "a) Generate a plot that shows average precision for training and test sets as a function of the\n",
        "number of epochs. Indicate what a reasonable number of epochs should be."
      ]
    },
    {
      "cell_type": "code",
      "metadata": {
        "id": "dXOPZHMSFSBe"
      },
      "source": [
        "from keras.datasets import cifar100\n",
        "from keras.backend import clear_session\n",
        "from keras.models import Sequential\n",
        "from keras.layers import Dense, InputLayer\n",
        "from keras.metrics import Precision, Accuracy\n",
        "from tensorflow.keras.utils import to_categorical\n",
        "from keras.initializers import RandomNormal\n",
        "import matplotlib.pyplot as plt\n",
        "import numpy as np\n",
        "import tensorflow\n",
        "from numpy.random import seed\n",
        "from sklearn.model_selection import train_test_split\n",
        "import re\n",
        "\n",
        "seed(42)\n",
        "tensorflow.random.set_seed(42)\n",
        "\n",
        "clear_session()\n",
        "\n",
        "def nn_2_init(test_size):\n",
        "  (x_train, y_train), (x_test, y_test) = cifar100.load_data(label_mode='fine')\n",
        "\n",
        "  if (test_size < 1 and test_size > 0):\n",
        "    x_valid, x_test, y_valid, y_test = train_test_split(x_test, y_test, test_size=test_size)\n",
        "\n",
        "  x_train = x_train.reshape((50000, 32 * 32 * 3, ))\n",
        "  x_train = x_train.astype('float32') / 255\n",
        "\n",
        "  x_test = x_test.reshape((int(10000 * test_size), 32 * 32 * 3,))\n",
        "  x_test = x_test.astype('float32') / 255\n",
        "\n",
        "  y_train = to_categorical(y_train)\n",
        "  y_test = to_categorical(y_test)\n",
        "\n",
        "  return x_train, x_test, y_train, y_test\n",
        "\n",
        "def nn_2_build(input_dim, output_dim, no_of_nodes) -> Sequential:\n",
        "  model = Sequential()\n",
        "  initializer = RandomNormal(seed=42)\n",
        "\n",
        "  # Input Layer\n",
        "  model.add(InputLayer(input_shape=(input_dim,)))\n",
        "\n",
        "  # Hidden Layers\n",
        "  for i in range(len(no_of_nodes)):\n",
        "    model.add(Dense(no_of_nodes[i], activation=\"relu\", kernel_initializer=initializer))\n",
        "\n",
        "  # Output Layer\n",
        "  model.add(Dense(output_dim, activation='softmax'))\n",
        "\n",
        "  model.compile(optimizer='adam', loss='categorical_crossentropy', metrics=[Precision(), Accuracy()])\n",
        "\n",
        "  return model\n",
        "\n",
        "def nn_2_train(x_train, x_test, y_train, y_test, no_of_epochs, no_of_nodes, metrics_to_track=[\"precision\", \"val_precision\", \"accuracy\", \"val_accuracy\", \"loss\", \"val_loss\"]):\n",
        "  model = nn_2_build(x_train.shape[1], y_train.shape[1], no_of_nodes)\n",
        "  metrics = model.fit(x_train, y_train, epochs=no_of_epochs, validation_data=(x_test,y_test))\n",
        "  metrics_to_track = [key for key in metrics.history if re.sub(r'_\\d+', \"\", key) in metrics_to_track]\n",
        "  return {re.sub(r'_\\d+', \"\", key): np.array(metrics.history[key]).mean() for key in metrics_to_track}\n",
        "\n",
        "def nn_2_plot(x_lbl, x_vals, metrics_to_track=[\"precision\", \"val_precision\"], no_of_epochs=[4]*4, no_of_nodes=[[500,200]]*4, test_size=[1]*4):\n",
        "  \n",
        "  metrics = {metric_name: [] for metric_name in metrics_to_track}\n",
        "\n",
        "  for i in range(len(x_vals)):\n",
        "    if not len(set(test_size)) or not i:\n",
        "      data = nn_2_init(test_size[i])\n",
        "\n",
        "    metrics_temp = nn_2_train(*data, no_of_epochs=no_of_epochs[i], no_of_nodes=no_of_nodes[i])\n",
        "    metrics[\"precision\"].append(metrics_temp[\"precision\"])\n",
        "    metrics[\"val_precision\"].append(metrics_temp[\"val_precision\"])\n",
        "    metrics[\"accuracy\"].append(metrics_temp[\"accuracy\"])\n",
        "    metrics[\"val_accuracy\"].append(metrics_temp[\"val_accuracy\"])\n",
        "\n",
        "  fig, ax = plt.subplots()\n",
        "\n",
        "  for metric_name in metrics:\n",
        "    metric_values = metrics[metric_name]\n",
        "    if metric_values:\n",
        "      ax.plot(x_vals, metric_values, label=metric_name)\n",
        "\n",
        "  ax.set_xlabel(x_lbl)\n",
        "  ax.legend(title=\"Metric Type\")\n",
        "  ax.grid()\n",
        "  ax.autoscale()\n",
        "\n",
        "nn_2_plot(\"Number of Epochs\", x_vals=[4 * (i+1) for i in range(4)], no_of_epochs=[4 * (i+1) for i in range(4)])"
      ],
      "execution_count": null,
      "outputs": []
    },
    {
      "cell_type": "markdown",
      "metadata": {
        "id": "njcP1h2ax-7H"
      },
      "source": [
        "# Analysis\n",
        "\n",
        "When the model uses around 8-12 epochs, we achieve optimal precision."
      ]
    },
    {
      "cell_type": "markdown",
      "metadata": {
        "id": "fcSLRbsO2vr9"
      },
      "source": [
        "b) Generate a plot that shows average precision for training and validation sets as a function of the number of weights/parameters (# hidden nodes). For this question part, you will be modifying the architecture that was given to you as a starting point."
      ]
    },
    {
      "cell_type": "code",
      "metadata": {
        "id": "g3QEVP47K89k"
      },
      "source": [
        "nn_2_plot(\"Number of Hidden Nodes\", x_vals=[(i+2)*100 for i in range(8)], no_of_nodes=[[(i+2) * 100] * 4 for i in range(8)], no_of_epochs=[10 for i in range(8)])"
      ],
      "execution_count": null,
      "outputs": []
    },
    {
      "cell_type": "markdown",
      "metadata": {
        "id": "UzE3cWkV21kq"
      },
      "source": [
        "c) Generate the plot for accuracy and loss of training and validation as a function of the number of instances in the training set. For this question part, you will be modifying your training set. For instance, you can follow the Q2 suggested ratios or run 10 experiments where you first use a random 10% of the training data, a second experiment where you use a random 20% of the training data, and so on until\n",
        "you use the entire training set. Keep the network hyperparameters constant during your experiments."
      ]
    },
    {
      "cell_type": "code",
      "metadata": {
        "id": "_1m_ebyYwWTK"
      },
      "source": [
        "nn_2_plot(\"Percentage of Training Set\", x_vals=[(i+1)*0.1 for i in range(9)], no_of_nodes=[[600]*3]*9, no_of_epochs=[10 for i in range(9)], test_size=[(i+1)*0.1 for i in range(9)], metrics_to_track=[\"precision\", \"val_precision\", \"accuracy\", \"val_accuracy\"])"
      ],
      "execution_count": null,
      "outputs": []
    },
    {
      "cell_type": "markdown",
      "metadata": {
        "id": "xXnsj0WF3KE4"
      },
      "source": [
        "d) Based on all your experiments above, define a network architecture and report accuracy and average precision for all classes."
      ]
    },
    {
      "cell_type": "code",
      "metadata": {
        "id": "qavt6E5r8Xz7"
      },
      "source": [
        "nn_2_plot(\"Iteration No.\", x_vals=[(i+1) for i in range(4)], no_of_nodes=[[600]*3]*4, no_of_epochs=[10]*4, test_size=[0.6]*4, metrics_to_track=[\"precision\", \"val_precision\", \"accuracy\", \"val_accuracy\"])"
      ],
      "execution_count": null,
      "outputs": []
    },
    {
      "cell_type": "markdown",
      "metadata": {
        "id": "Ss4MlHpX3LaD"
      },
      "source": [
        "e) Can you improve test prediction performance by using an ensemble of neural networks?"
      ]
    },
    {
      "cell_type": "markdown",
      "metadata": {
        "id": "rZE2MXMk-1wr"
      },
      "source": [
        "# Answer\n",
        "Yes. Since there exists a limited number of training instances, by using the prediction of multiple neural networks (an ensemble of neural networks), we would arrive at more accurate results."
      ]
    }
  ]
}